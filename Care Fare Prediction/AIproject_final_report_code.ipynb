{
  "nbformat": 4,
  "nbformat_minor": 0,
  "metadata": {
    "colab": {
      "name": "AIproject_cab_fare_prediction_final_results.ipynb",
      "provenance": [],
      "collapsed_sections": []
    },
    "kernelspec": {
      "display_name": "Python 3",
      "language": "python",
      "name": "python3"
    },
    "language_info": {
      "codemirror_mode": {
        "name": "ipython",
        "version": 3
      },
      "file_extension": ".py",
      "mimetype": "text/x-python",
      "name": "python",
      "nbconvert_exporter": "python",
      "pygments_lexer": "ipython3",
      "version": "3.8.5"
    }
  },
  "cells": [
    {
      "cell_type": "code",
      "metadata": {
        "id": "t2a-XT7NOWrb"
      },
      "source": [
        "#Importing libraries\n",
        "import pandas as pd\n",
        "import numpy as np  \n",
        "import matplotlib.pyplot as plt \n",
        "import seaborn as sns \n",
        "from collections import Counter \n",
        "#Machine Learning algorithm\n",
        "from sklearn.linear_model import LinearRegression\n",
        "from sklearn.tree import DecisionTreeRegressor\n",
        "from sklearn.ensemble import RandomForestRegressor\n",
        "from sklearn.ensemble import GradientBoostingRegressor\n",
        "# For splitting dataset\n",
        "from sklearn.model_selection import train_test_split\n",
        "from sklearn.metrics import mean_squared_error, mean_absolute_error\n",
        "from sklearn.metrics import r2_score\n",
        "from pprint import pprint  \n",
        "from sklearn.model_selection import GridSearchCV \n",
        "%matplotlib inline"
      ],
      "execution_count": 3,
      "outputs": []
    },
    {
      "cell_type": "code",
      "metadata": {
        "colab": {
          "base_uri": "https://localhost:8080/",
          "height": 202
        },
        "id": "zROkSRIssgBh",
        "outputId": "6d93a37e-a78d-41ff-fd14-0a6f81c43c4a"
      },
      "source": [
        "#Load the datasets\n",
        "dataset_train = pd.read_csv(\"price_prediction_traindataset.csv\",na_values={\"pickup_datetime\":\"43\"})\n",
        "dataset_train.head()"
      ],
      "execution_count": 4,
      "outputs": [
        {
          "output_type": "execute_result",
          "data": {
            "text/html": [
              "<div>\n",
              "<style scoped>\n",
              "    .dataframe tbody tr th:only-of-type {\n",
              "        vertical-align: middle;\n",
              "    }\n",
              "\n",
              "    .dataframe tbody tr th {\n",
              "        vertical-align: top;\n",
              "    }\n",
              "\n",
              "    .dataframe thead th {\n",
              "        text-align: right;\n",
              "    }\n",
              "</style>\n",
              "<table border=\"1\" class=\"dataframe\">\n",
              "  <thead>\n",
              "    <tr style=\"text-align: right;\">\n",
              "      <th></th>\n",
              "      <th>fare_amount</th>\n",
              "      <th>pickup_datetime</th>\n",
              "      <th>pickup_longitude</th>\n",
              "      <th>pickup_latitude</th>\n",
              "      <th>dropoff_longitude</th>\n",
              "      <th>dropoff_latitude</th>\n",
              "      <th>passenger_count</th>\n",
              "    </tr>\n",
              "  </thead>\n",
              "  <tbody>\n",
              "    <tr>\n",
              "      <th>0</th>\n",
              "      <td>4.5</td>\n",
              "      <td>2009-06-15 17:26:21 UTC</td>\n",
              "      <td>-73.844311</td>\n",
              "      <td>40.721319</td>\n",
              "      <td>-73.841610</td>\n",
              "      <td>40.712278</td>\n",
              "      <td>1.0</td>\n",
              "    </tr>\n",
              "    <tr>\n",
              "      <th>1</th>\n",
              "      <td>16.9</td>\n",
              "      <td>2010-01-05 16:52:16 UTC</td>\n",
              "      <td>-74.016048</td>\n",
              "      <td>40.711303</td>\n",
              "      <td>-73.979268</td>\n",
              "      <td>40.782004</td>\n",
              "      <td>1.0</td>\n",
              "    </tr>\n",
              "    <tr>\n",
              "      <th>2</th>\n",
              "      <td>5.7</td>\n",
              "      <td>2011-08-18 00:35:00 UTC</td>\n",
              "      <td>-73.982738</td>\n",
              "      <td>40.761270</td>\n",
              "      <td>-73.991242</td>\n",
              "      <td>40.750562</td>\n",
              "      <td>2.0</td>\n",
              "    </tr>\n",
              "    <tr>\n",
              "      <th>3</th>\n",
              "      <td>7.7</td>\n",
              "      <td>2012-04-21 04:30:42 UTC</td>\n",
              "      <td>-73.987130</td>\n",
              "      <td>40.733143</td>\n",
              "      <td>-73.991567</td>\n",
              "      <td>40.758092</td>\n",
              "      <td>1.0</td>\n",
              "    </tr>\n",
              "    <tr>\n",
              "      <th>4</th>\n",
              "      <td>5.3</td>\n",
              "      <td>2010-03-09 07:51:00 UTC</td>\n",
              "      <td>-73.968095</td>\n",
              "      <td>40.768008</td>\n",
              "      <td>-73.956655</td>\n",
              "      <td>40.783762</td>\n",
              "      <td>1.0</td>\n",
              "    </tr>\n",
              "  </tbody>\n",
              "</table>\n",
              "</div>"
            ],
            "text/plain": [
              "  fare_amount          pickup_datetime  ...  dropoff_latitude  passenger_count\n",
              "0         4.5  2009-06-15 17:26:21 UTC  ...         40.712278              1.0\n",
              "1        16.9  2010-01-05 16:52:16 UTC  ...         40.782004              1.0\n",
              "2         5.7  2011-08-18 00:35:00 UTC  ...         40.750562              2.0\n",
              "3         7.7  2012-04-21 04:30:42 UTC  ...         40.758092              1.0\n",
              "4         5.3  2010-03-09 07:51:00 UTC  ...         40.783762              1.0\n",
              "\n",
              "[5 rows x 7 columns]"
            ]
          },
          "metadata": {
            "tags": []
          },
          "execution_count": 4
        }
      ]
    },
    {
      "cell_type": "code",
      "metadata": {
        "colab": {
          "base_uri": "https://localhost:8080/"
        },
        "id": "XAflXgqTPgNC",
        "outputId": "8d91b754-29e4-4a33-c820-0c2c0d7f697c"
      },
      "source": [
        "#datatyes of Train data\n",
        "dataset_train.dtypes"
      ],
      "execution_count": 5,
      "outputs": [
        {
          "output_type": "execute_result",
          "data": {
            "text/plain": [
              "fare_amount           object\n",
              "pickup_datetime       object\n",
              "pickup_longitude     float64\n",
              "pickup_latitude      float64\n",
              "dropoff_longitude    float64\n",
              "dropoff_latitude     float64\n",
              "passenger_count      float64\n",
              "dtype: object"
            ]
          },
          "metadata": {
            "tags": []
          },
          "execution_count": 5
        }
      ]
    },
    {
      "cell_type": "code",
      "metadata": {
        "colab": {
          "base_uri": "https://localhost:8080/",
          "height": 294
        },
        "id": "tYa7uzKKR_Fg",
        "outputId": "cf5587ad-5963-4f8a-8aac-bc46212a7d73"
      },
      "source": [
        "dataset_train.describe()"
      ],
      "execution_count": 6,
      "outputs": [
        {
          "output_type": "execute_result",
          "data": {
            "text/html": [
              "<div>\n",
              "<style scoped>\n",
              "    .dataframe tbody tr th:only-of-type {\n",
              "        vertical-align: middle;\n",
              "    }\n",
              "\n",
              "    .dataframe tbody tr th {\n",
              "        vertical-align: top;\n",
              "    }\n",
              "\n",
              "    .dataframe thead th {\n",
              "        text-align: right;\n",
              "    }\n",
              "</style>\n",
              "<table border=\"1\" class=\"dataframe\">\n",
              "  <thead>\n",
              "    <tr style=\"text-align: right;\">\n",
              "      <th></th>\n",
              "      <th>pickup_longitude</th>\n",
              "      <th>pickup_latitude</th>\n",
              "      <th>dropoff_longitude</th>\n",
              "      <th>dropoff_latitude</th>\n",
              "      <th>passenger_count</th>\n",
              "    </tr>\n",
              "  </thead>\n",
              "  <tbody>\n",
              "    <tr>\n",
              "      <th>count</th>\n",
              "      <td>16067.000000</td>\n",
              "      <td>16067.000000</td>\n",
              "      <td>16067.000000</td>\n",
              "      <td>16067.000000</td>\n",
              "      <td>16012.000000</td>\n",
              "    </tr>\n",
              "    <tr>\n",
              "      <th>mean</th>\n",
              "      <td>-72.462787</td>\n",
              "      <td>39.914725</td>\n",
              "      <td>-72.462328</td>\n",
              "      <td>39.897906</td>\n",
              "      <td>2.625070</td>\n",
              "    </tr>\n",
              "    <tr>\n",
              "      <th>std</th>\n",
              "      <td>10.578384</td>\n",
              "      <td>6.826587</td>\n",
              "      <td>10.575062</td>\n",
              "      <td>6.187087</td>\n",
              "      <td>60.844122</td>\n",
              "    </tr>\n",
              "    <tr>\n",
              "      <th>min</th>\n",
              "      <td>-74.438233</td>\n",
              "      <td>-74.006893</td>\n",
              "      <td>-74.429332</td>\n",
              "      <td>-74.006377</td>\n",
              "      <td>0.000000</td>\n",
              "    </tr>\n",
              "    <tr>\n",
              "      <th>25%</th>\n",
              "      <td>-73.992156</td>\n",
              "      <td>40.734927</td>\n",
              "      <td>-73.991182</td>\n",
              "      <td>40.734651</td>\n",
              "      <td>1.000000</td>\n",
              "    </tr>\n",
              "    <tr>\n",
              "      <th>50%</th>\n",
              "      <td>-73.981698</td>\n",
              "      <td>40.752603</td>\n",
              "      <td>-73.980172</td>\n",
              "      <td>40.753567</td>\n",
              "      <td>1.000000</td>\n",
              "    </tr>\n",
              "    <tr>\n",
              "      <th>75%</th>\n",
              "      <td>-73.966838</td>\n",
              "      <td>40.767381</td>\n",
              "      <td>-73.963643</td>\n",
              "      <td>40.768013</td>\n",
              "      <td>2.000000</td>\n",
              "    </tr>\n",
              "    <tr>\n",
              "      <th>max</th>\n",
              "      <td>40.766125</td>\n",
              "      <td>401.083332</td>\n",
              "      <td>40.802437</td>\n",
              "      <td>41.366138</td>\n",
              "      <td>5345.000000</td>\n",
              "    </tr>\n",
              "  </tbody>\n",
              "</table>\n",
              "</div>"
            ],
            "text/plain": [
              "       pickup_longitude  pickup_latitude  ...  dropoff_latitude  passenger_count\n",
              "count      16067.000000     16067.000000  ...      16067.000000     16012.000000\n",
              "mean         -72.462787        39.914725  ...         39.897906         2.625070\n",
              "std           10.578384         6.826587  ...          6.187087        60.844122\n",
              "min          -74.438233       -74.006893  ...        -74.006377         0.000000\n",
              "25%          -73.992156        40.734927  ...         40.734651         1.000000\n",
              "50%          -73.981698        40.752603  ...         40.753567         1.000000\n",
              "75%          -73.966838        40.767381  ...         40.768013         2.000000\n",
              "max           40.766125       401.083332  ...         41.366138      5345.000000\n",
              "\n",
              "[8 rows x 5 columns]"
            ]
          },
          "metadata": {
            "tags": []
          },
          "execution_count": 6
        }
      ]
    },
    {
      "cell_type": "code",
      "metadata": {
        "id": "95R5wk94L3sr"
      },
      "source": [
        "# Converting fare amount from object to int\n",
        "# Replacing all non-numeric with NaN Using errors=’coerce’.\n",
        "\n",
        "dataset_train[\"fare_amount\"] = pd.to_numeric(dataset_train[\"fare_amount\"],errors = \"coerce\")"
      ],
      "execution_count": 7,
      "outputs": []
    },
    {
      "cell_type": "code",
      "metadata": {
        "colab": {
          "base_uri": "https://localhost:8080/"
        },
        "id": "bzrF7qDUMZ6D",
        "outputId": "de6763c8-6cd8-42eb-a642-2b9f3793e354"
      },
      "source": [
        "dataset_train.dtypes"
      ],
      "execution_count": 8,
      "outputs": [
        {
          "output_type": "execute_result",
          "data": {
            "text/plain": [
              "fare_amount          float64\n",
              "pickup_datetime       object\n",
              "pickup_longitude     float64\n",
              "pickup_latitude      float64\n",
              "dropoff_longitude    float64\n",
              "dropoff_latitude     float64\n",
              "passenger_count      float64\n",
              "dtype: object"
            ]
          },
          "metadata": {
            "tags": []
          },
          "execution_count": 8
        }
      ]
    },
    {
      "cell_type": "code",
      "metadata": {
        "colab": {
          "base_uri": "https://localhost:8080/",
          "height": 609
        },
        "id": "JX1sCvIEOuLv",
        "outputId": "8a06a19a-9cd8-40ce-ae1e-29dc939ea318"
      },
      "source": [
        "# Removing  NA values in datetime column\n",
        "\n",
        "dataset_train.dropna(subset=[\"pickup_datetime\"])"
      ],
      "execution_count": 9,
      "outputs": [
        {
          "output_type": "execute_result",
          "data": {
            "text/html": [
              "<div>\n",
              "<style scoped>\n",
              "    .dataframe tbody tr th:only-of-type {\n",
              "        vertical-align: middle;\n",
              "    }\n",
              "\n",
              "    .dataframe tbody tr th {\n",
              "        vertical-align: top;\n",
              "    }\n",
              "\n",
              "    .dataframe thead th {\n",
              "        text-align: right;\n",
              "    }\n",
              "</style>\n",
              "<table border=\"1\" class=\"dataframe\">\n",
              "  <thead>\n",
              "    <tr style=\"text-align: right;\">\n",
              "      <th></th>\n",
              "      <th>fare_amount</th>\n",
              "      <th>pickup_datetime</th>\n",
              "      <th>pickup_longitude</th>\n",
              "      <th>pickup_latitude</th>\n",
              "      <th>dropoff_longitude</th>\n",
              "      <th>dropoff_latitude</th>\n",
              "      <th>passenger_count</th>\n",
              "    </tr>\n",
              "  </thead>\n",
              "  <tbody>\n",
              "    <tr>\n",
              "      <th>0</th>\n",
              "      <td>4.5</td>\n",
              "      <td>2009-06-15 17:26:21 UTC</td>\n",
              "      <td>-73.844311</td>\n",
              "      <td>40.721319</td>\n",
              "      <td>-73.841610</td>\n",
              "      <td>40.712278</td>\n",
              "      <td>1.0</td>\n",
              "    </tr>\n",
              "    <tr>\n",
              "      <th>1</th>\n",
              "      <td>16.9</td>\n",
              "      <td>2010-01-05 16:52:16 UTC</td>\n",
              "      <td>-74.016048</td>\n",
              "      <td>40.711303</td>\n",
              "      <td>-73.979268</td>\n",
              "      <td>40.782004</td>\n",
              "      <td>1.0</td>\n",
              "    </tr>\n",
              "    <tr>\n",
              "      <th>2</th>\n",
              "      <td>5.7</td>\n",
              "      <td>2011-08-18 00:35:00 UTC</td>\n",
              "      <td>-73.982738</td>\n",
              "      <td>40.761270</td>\n",
              "      <td>-73.991242</td>\n",
              "      <td>40.750562</td>\n",
              "      <td>2.0</td>\n",
              "    </tr>\n",
              "    <tr>\n",
              "      <th>3</th>\n",
              "      <td>7.7</td>\n",
              "      <td>2012-04-21 04:30:42 UTC</td>\n",
              "      <td>-73.987130</td>\n",
              "      <td>40.733143</td>\n",
              "      <td>-73.991567</td>\n",
              "      <td>40.758092</td>\n",
              "      <td>1.0</td>\n",
              "    </tr>\n",
              "    <tr>\n",
              "      <th>4</th>\n",
              "      <td>5.3</td>\n",
              "      <td>2010-03-09 07:51:00 UTC</td>\n",
              "      <td>-73.968095</td>\n",
              "      <td>40.768008</td>\n",
              "      <td>-73.956655</td>\n",
              "      <td>40.783762</td>\n",
              "      <td>1.0</td>\n",
              "    </tr>\n",
              "    <tr>\n",
              "      <th>...</th>\n",
              "      <td>...</td>\n",
              "      <td>...</td>\n",
              "      <td>...</td>\n",
              "      <td>...</td>\n",
              "      <td>...</td>\n",
              "      <td>...</td>\n",
              "      <td>...</td>\n",
              "    </tr>\n",
              "    <tr>\n",
              "      <th>16062</th>\n",
              "      <td>6.5</td>\n",
              "      <td>2014-12-12 07:41:00 UTC</td>\n",
              "      <td>-74.008820</td>\n",
              "      <td>40.718757</td>\n",
              "      <td>-73.998865</td>\n",
              "      <td>40.719987</td>\n",
              "      <td>1.0</td>\n",
              "    </tr>\n",
              "    <tr>\n",
              "      <th>16063</th>\n",
              "      <td>16.1</td>\n",
              "      <td>2009-07-13 07:58:00 UTC</td>\n",
              "      <td>-73.981310</td>\n",
              "      <td>40.781695</td>\n",
              "      <td>-74.014392</td>\n",
              "      <td>40.715527</td>\n",
              "      <td>2.0</td>\n",
              "    </tr>\n",
              "    <tr>\n",
              "      <th>16064</th>\n",
              "      <td>8.5</td>\n",
              "      <td>2009-11-11 11:19:07 UTC</td>\n",
              "      <td>-73.972507</td>\n",
              "      <td>40.753417</td>\n",
              "      <td>-73.979577</td>\n",
              "      <td>40.765495</td>\n",
              "      <td>1.0</td>\n",
              "    </tr>\n",
              "    <tr>\n",
              "      <th>16065</th>\n",
              "      <td>8.1</td>\n",
              "      <td>2010-05-11 23:53:00 UTC</td>\n",
              "      <td>-73.957027</td>\n",
              "      <td>40.765945</td>\n",
              "      <td>-73.981983</td>\n",
              "      <td>40.779560</td>\n",
              "      <td>1.0</td>\n",
              "    </tr>\n",
              "    <tr>\n",
              "      <th>16066</th>\n",
              "      <td>8.5</td>\n",
              "      <td>2011-12-14 06:24:33 UTC</td>\n",
              "      <td>-74.002111</td>\n",
              "      <td>40.729755</td>\n",
              "      <td>-73.983877</td>\n",
              "      <td>40.761975</td>\n",
              "      <td>NaN</td>\n",
              "    </tr>\n",
              "  </tbody>\n",
              "</table>\n",
              "<p>16066 rows × 7 columns</p>\n",
              "</div>"
            ],
            "text/plain": [
              "       fare_amount          pickup_datetime  ...  dropoff_latitude  passenger_count\n",
              "0              4.5  2009-06-15 17:26:21 UTC  ...         40.712278              1.0\n",
              "1             16.9  2010-01-05 16:52:16 UTC  ...         40.782004              1.0\n",
              "2              5.7  2011-08-18 00:35:00 UTC  ...         40.750562              2.0\n",
              "3              7.7  2012-04-21 04:30:42 UTC  ...         40.758092              1.0\n",
              "4              5.3  2010-03-09 07:51:00 UTC  ...         40.783762              1.0\n",
              "...            ...                      ...  ...               ...              ...\n",
              "16062          6.5  2014-12-12 07:41:00 UTC  ...         40.719987              1.0\n",
              "16063         16.1  2009-07-13 07:58:00 UTC  ...         40.715527              2.0\n",
              "16064          8.5  2009-11-11 11:19:07 UTC  ...         40.765495              1.0\n",
              "16065          8.1  2010-05-11 23:53:00 UTC  ...         40.779560              1.0\n",
              "16066          8.5  2011-12-14 06:24:33 UTC  ...         40.761975              NaN\n",
              "\n",
              "[16066 rows x 7 columns]"
            ]
          },
          "metadata": {
            "tags": []
          },
          "execution_count": 9
        }
      ]
    },
    {
      "cell_type": "code",
      "metadata": {
        "id": "jOC8EH6tPhig"
      },
      "source": [
        "# changing pickup_datetime variable to datetime\n",
        "\n",
        "dataset_train['pickup_datetime'] =  pd.to_datetime(dataset_train['pickup_datetime'], format='%Y-%m-%d %H:%M:%S UTC')"
      ],
      "execution_count": 10,
      "outputs": []
    },
    {
      "cell_type": "code",
      "metadata": {
        "id": "IhCKRQWtRxG-"
      },
      "source": [
        "# saperating the \"Pickup_datetime\" column into separate fields like year,month,day of the week\n",
        "\n",
        "dataset_train['Year'] = dataset_train['pickup_datetime'].dt.year\n",
        "dataset_train['Month'] = dataset_train['pickup_datetime'].dt.month\n",
        "dataset_train['Date'] = dataset_train['pickup_datetime'].dt.day\n",
        "dataset_train['Day'] = dataset_train['pickup_datetime'].dt.dayofweek\n",
        "dataset_train['Hour'] = dataset_train['pickup_datetime'].dt.hour\n",
        "dataset_train['Minute'] = dataset_train['pickup_datetime'].dt.minute"
      ],
      "execution_count": 11,
      "outputs": []
    },
    {
      "cell_type": "code",
      "metadata": {
        "colab": {
          "base_uri": "https://localhost:8080/"
        },
        "id": "r2YRa4-jSjs2",
        "outputId": "05a2053c-f1e4-4c3e-e218-d5f638326412"
      },
      "source": [
        "dataset_train.dtypes"
      ],
      "execution_count": 12,
      "outputs": [
        {
          "output_type": "execute_result",
          "data": {
            "text/plain": [
              "fare_amount                 float64\n",
              "pickup_datetime      datetime64[ns]\n",
              "pickup_longitude            float64\n",
              "pickup_latitude             float64\n",
              "dropoff_longitude           float64\n",
              "dropoff_latitude            float64\n",
              "passenger_count             float64\n",
              "Year                        float64\n",
              "Month                       float64\n",
              "Date                        float64\n",
              "Day                         float64\n",
              "Hour                        float64\n",
              "Minute                      float64\n",
              "dtype: object"
            ]
          },
          "metadata": {
            "tags": []
          },
          "execution_count": 12
        }
      ]
    },
    {
      "cell_type": "code",
      "metadata": {
        "colab": {
          "base_uri": "https://localhost:8080/"
        },
        "id": "vwwIhD6KSvBl",
        "outputId": "16b6692e-1f91-4920-e21d-5a5c5d3db9e9"
      },
      "source": [
        "# removing missing values in pickup_datetime\n",
        "\n",
        "dataset_train = dataset_train.drop(dataset_train[dataset_train['pickup_datetime'].isnull()].index, axis=0)\n",
        "print(dataset_train.shape)\n",
        "print(dataset_train['pickup_datetime'].isnull().sum())"
      ],
      "execution_count": 13,
      "outputs": [
        {
          "output_type": "stream",
          "text": [
            "(16066, 13)\n",
            "0\n"
          ],
          "name": "stdout"
        }
      ]
    },
    {
      "cell_type": "code",
      "metadata": {
        "colab": {
          "base_uri": "https://localhost:8080/"
        },
        "id": "POiu025g28Fk",
        "outputId": "4d64517e-da04-4426-88de-a3e787bb1044"
      },
      "source": [
        "#Maximum passengers allowed per cab is 6 hence removing passenger count which is higher than 6 and lower than 1. \n",
        "#Removing null values in passenger_count rows\n",
        "\n",
        "dataset_train = dataset_train.drop(dataset_train[dataset_train[\"passenger_count\"]> 6 ].index, axis=0)\n",
        "dataset_train = dataset_train.drop(dataset_train[dataset_train[\"passenger_count\"]< 1 ].index, axis=0)\n",
        "dataset_train = dataset_train.drop(dataset_train[dataset_train['passenger_count'].isnull()].index, axis=0)\n",
        "print(dataset_train.shape)\n",
        "print(dataset_train['passenger_count'].isnull().sum())\n",
        "dataset_train[\"passenger_count\"].describe()\n"
      ],
      "execution_count": 14,
      "outputs": [
        {
          "output_type": "stream",
          "text": [
            "(15933, 13)\n",
            "0\n"
          ],
          "name": "stdout"
        },
        {
          "output_type": "execute_result",
          "data": {
            "text/plain": [
              "count    15933.000000\n",
              "mean         1.649677\n",
              "std          1.265925\n",
              "min          1.000000\n",
              "25%          1.000000\n",
              "50%          1.000000\n",
              "75%          2.000000\n",
              "max          6.000000\n",
              "Name: passenger_count, dtype: float64"
            ]
          },
          "metadata": {
            "tags": []
          },
          "execution_count": 14
        }
      ]
    },
    {
      "cell_type": "code",
      "metadata": {
        "colab": {
          "base_uri": "https://localhost:8080/"
        },
        "id": "XfZ400OiFb94",
        "outputId": "53808881-7b0e-4a8e-bfce-9d09644aac68"
      },
      "source": [
        "#Checking fare_amount with null and negative values \n",
        "dataset_train[\"fare_amount\"].sort_values(ascending=False)\n",
        "Counter(dataset_train[\"fare_amount\"]<0)"
      ],
      "execution_count": 15,
      "outputs": [
        {
          "output_type": "execute_result",
          "data": {
            "text/plain": [
              "Counter({False: 15930, True: 3})"
            ]
          },
          "metadata": {
            "tags": []
          },
          "execution_count": 15
        }
      ]
    },
    {
      "cell_type": "code",
      "metadata": {
        "colab": {
          "base_uri": "https://localhost:8080/"
        },
        "id": "rYJhrBXhJiG6",
        "outputId": "4ae8eb5b-29b4-4855-c6e4-a94293f9bfa2"
      },
      "source": [
        "#Removing Null and Zero values from fare_amount\n",
        "dataset_train=dataset_train.drop(dataset_train[dataset_train['fare_amount']<1].index,axis=0)\n",
        "dataset_train=dataset_train.drop(dataset_train[dataset_train[\"fare_amount\"].isnull()].index, axis=0)\n",
        "dataset_train.shape\n",
        "dataset_train[\"fare_amount\"].min()"
      ],
      "execution_count": 16,
      "outputs": [
        {
          "output_type": "execute_result",
          "data": {
            "text/plain": [
              "1.14"
            ]
          },
          "metadata": {
            "tags": []
          },
          "execution_count": 16
        }
      ]
    },
    {
      "cell_type": "code",
      "metadata": {
        "colab": {
          "base_uri": "https://localhost:8080/"
        },
        "id": "d4V73YriSwEA",
        "outputId": "92e9bb18-c2c3-4c80-ae37-7cb9ed88e480"
      },
      "source": [
        "dataset_train['fare_amount'].sort_values(ascending=False)"
      ],
      "execution_count": 17,
      "outputs": [
        {
          "output_type": "execute_result",
          "data": {
            "text/plain": [
              "1015     54343.00\n",
              "1072      4343.00\n",
              "607        453.00\n",
              "980        434.00\n",
              "1335       180.00\n",
              "           ...   \n",
              "6765         2.50\n",
              "6703         2.50\n",
              "376          2.50\n",
              "14633        2.50\n",
              "1427         1.14\n",
              "Name: fare_amount, Length: 15904, dtype: float64"
            ]
          },
          "metadata": {
            "tags": []
          },
          "execution_count": 17
        }
      ]
    },
    {
      "cell_type": "code",
      "metadata": {
        "colab": {
          "base_uri": "https://localhost:8080/"
        },
        "id": "qM8e2Dx_TEcr",
        "outputId": "5179bfdb-4836-4d7e-fedc-09a0944f41d3"
      },
      "source": [
        "# Removing 54343 and 4343 which is far greater than 453 values\n",
        "\n",
        "dataset_train=dataset_train.drop(dataset_train[dataset_train[\"fare_amount\"]>453].index, axis=0)\n",
        "dataset_train.shape"
      ],
      "execution_count": 18,
      "outputs": [
        {
          "output_type": "execute_result",
          "data": {
            "text/plain": [
              "(15902, 13)"
            ]
          },
          "metadata": {
            "tags": []
          },
          "execution_count": 18
        }
      ]
    },
    {
      "cell_type": "code",
      "metadata": {
        "colab": {
          "base_uri": "https://localhost:8080/"
        },
        "id": "6MHPtP86Tmoz",
        "outputId": "85b73a59-5e0b-4fc5-9062-fbbde54fceab"
      },
      "source": [
        "dataset_train['fare_amount'].sort_values(ascending=False)"
      ],
      "execution_count": 19,
      "outputs": [
        {
          "output_type": "execute_result",
          "data": {
            "text/plain": [
              "607      453.00\n",
              "980      434.00\n",
              "1335     180.00\n",
              "1483     165.00\n",
              "6630     128.83\n",
              "          ...  \n",
              "8596       2.50\n",
              "13221      2.50\n",
              "13571      2.50\n",
              "8547       2.50\n",
              "1427       1.14\n",
              "Name: fare_amount, Length: 15902, dtype: float64"
            ]
          },
          "metadata": {
            "tags": []
          },
          "execution_count": 19
        }
      ]
    },
    {
      "cell_type": "code",
      "metadata": {
        "colab": {
          "base_uri": "https://localhost:8080/"
        },
        "id": "p1wEVqvFTvgL",
        "outputId": "fe351e16-c09e-4d5e-e8dd-9d91b75433e7"
      },
      "source": [
        "dataset_train['fare_amount'].describe()"
      ],
      "execution_count": 20,
      "outputs": [
        {
          "output_type": "execute_result",
          "data": {
            "text/plain": [
              "count    15902.000000\n",
              "mean        11.376356\n",
              "std         10.814908\n",
              "min          1.140000\n",
              "25%          6.000000\n",
              "50%          8.500000\n",
              "75%         12.500000\n",
              "max        453.000000\n",
              "Name: fare_amount, dtype: float64"
            ]
          },
          "metadata": {
            "tags": []
          },
          "execution_count": 20
        }
      ]
    },
    {
      "cell_type": "code",
      "metadata": {
        "id": "jxyYg9TZTzYZ"
      },
      "source": [
        "#validating pickup_latitude and pickup_longitude\n",
        "# Dropping Lattitude----> (-90 to 90), \n",
        "# Dropping rows in pickup_latitude having the value >90\n",
        "\n",
        "dataset_train = dataset_train.drop((dataset_train[dataset_train['pickup_latitude']<-90]).index, axis=0)\n",
        "dataset_train = dataset_train.drop((dataset_train[dataset_train['pickup_latitude']>90]).index, axis=0)"
      ],
      "execution_count": 21,
      "outputs": []
    },
    {
      "cell_type": "code",
      "metadata": {
        "colab": {
          "base_uri": "https://localhost:8080/",
          "height": 69
        },
        "id": "nDOeVa9BXdz5",
        "outputId": "cd12b7e0-77aa-4a90-ee8d-ba1a08eb7ed0"
      },
      "source": [
        "#Dropping Longitude----> (-180 to 180)\n",
        "dataset_train[dataset_train['pickup_longitude']<-180]\n",
        "dataset_train[dataset_train['pickup_longitude']>180]"
      ],
      "execution_count": 22,
      "outputs": [
        {
          "output_type": "execute_result",
          "data": {
            "text/html": [
              "<div>\n",
              "<style scoped>\n",
              "    .dataframe tbody tr th:only-of-type {\n",
              "        vertical-align: middle;\n",
              "    }\n",
              "\n",
              "    .dataframe tbody tr th {\n",
              "        vertical-align: top;\n",
              "    }\n",
              "\n",
              "    .dataframe thead th {\n",
              "        text-align: right;\n",
              "    }\n",
              "</style>\n",
              "<table border=\"1\" class=\"dataframe\">\n",
              "  <thead>\n",
              "    <tr style=\"text-align: right;\">\n",
              "      <th></th>\n",
              "      <th>fare_amount</th>\n",
              "      <th>pickup_datetime</th>\n",
              "      <th>pickup_longitude</th>\n",
              "      <th>pickup_latitude</th>\n",
              "      <th>dropoff_longitude</th>\n",
              "      <th>dropoff_latitude</th>\n",
              "      <th>passenger_count</th>\n",
              "      <th>Year</th>\n",
              "      <th>Month</th>\n",
              "      <th>Date</th>\n",
              "      <th>Day</th>\n",
              "      <th>Hour</th>\n",
              "      <th>Minute</th>\n",
              "    </tr>\n",
              "  </thead>\n",
              "  <tbody>\n",
              "  </tbody>\n",
              "</table>\n",
              "</div>"
            ],
            "text/plain": [
              "Empty DataFrame\n",
              "Columns: [fare_amount, pickup_datetime, pickup_longitude, pickup_latitude, dropoff_longitude, dropoff_latitude, passenger_count, Year, Month, Date, Day, Hour, Minute]\n",
              "Index: []"
            ]
          },
          "metadata": {
            "tags": []
          },
          "execution_count": 22
        }
      ]
    },
    {
      "cell_type": "code",
      "metadata": {
        "colab": {
          "base_uri": "https://localhost:8080/"
        },
        "id": "nzIvGEO_X6Jd",
        "outputId": "e85eefb8-333e-4060-fff7-0cfbe7fe6789"
      },
      "source": [
        "dataset_train.isnull().sum()"
      ],
      "execution_count": 23,
      "outputs": [
        {
          "output_type": "execute_result",
          "data": {
            "text/plain": [
              "fare_amount          0\n",
              "pickup_datetime      0\n",
              "pickup_longitude     0\n",
              "pickup_latitude      0\n",
              "dropoff_longitude    0\n",
              "dropoff_latitude     0\n",
              "passenger_count      0\n",
              "Year                 0\n",
              "Month                0\n",
              "Date                 0\n",
              "Day                  0\n",
              "Hour                 0\n",
              "Minute               0\n",
              "dtype: int64"
            ]
          },
          "metadata": {
            "tags": []
          },
          "execution_count": 23
        }
      ]
    },
    {
      "cell_type": "code",
      "metadata": {
        "colab": {
          "base_uri": "https://localhost:8080/",
          "height": 289
        },
        "id": "HcW896YaYBdP",
        "outputId": "9700f1b9-4e1d-4dfa-f518-8dd139bf5c06"
      },
      "source": [
        "#Loading the test datasets\n",
        "dataset_test = pd.read_csv(\"price_prediction_testdataset.csv\")\n",
        "dataset_test.head()"
      ],
      "execution_count": 24,
      "outputs": [
        {
          "output_type": "execute_result",
          "data": {
            "text/html": [
              "<div>\n",
              "<style scoped>\n",
              "    .dataframe tbody tr th:only-of-type {\n",
              "        vertical-align: middle;\n",
              "    }\n",
              "\n",
              "    .dataframe tbody tr th {\n",
              "        vertical-align: top;\n",
              "    }\n",
              "\n",
              "    .dataframe thead th {\n",
              "        text-align: right;\n",
              "    }\n",
              "</style>\n",
              "<table border=\"1\" class=\"dataframe\">\n",
              "  <thead>\n",
              "    <tr style=\"text-align: right;\">\n",
              "      <th></th>\n",
              "      <th>pickup_datetime</th>\n",
              "      <th>pickup_longitude</th>\n",
              "      <th>pickup_latitude</th>\n",
              "      <th>dropoff_longitude</th>\n",
              "      <th>dropoff_latitude</th>\n",
              "      <th>passenger_count</th>\n",
              "    </tr>\n",
              "  </thead>\n",
              "  <tbody>\n",
              "    <tr>\n",
              "      <th>0</th>\n",
              "      <td>2015-01-27 13:08:24 UTC</td>\n",
              "      <td>-73.973320</td>\n",
              "      <td>40.763805</td>\n",
              "      <td>-73.981430</td>\n",
              "      <td>40.743835</td>\n",
              "      <td>1</td>\n",
              "    </tr>\n",
              "    <tr>\n",
              "      <th>1</th>\n",
              "      <td>2015-01-27 13:08:24 UTC</td>\n",
              "      <td>-73.986862</td>\n",
              "      <td>40.719383</td>\n",
              "      <td>-73.998886</td>\n",
              "      <td>40.739201</td>\n",
              "      <td>1</td>\n",
              "    </tr>\n",
              "    <tr>\n",
              "      <th>2</th>\n",
              "      <td>2011-10-08 11:53:44 UTC</td>\n",
              "      <td>-73.982524</td>\n",
              "      <td>40.751260</td>\n",
              "      <td>-73.979654</td>\n",
              "      <td>40.746139</td>\n",
              "      <td>1</td>\n",
              "    </tr>\n",
              "    <tr>\n",
              "      <th>3</th>\n",
              "      <td>2012-12-01 21:12:12 UTC</td>\n",
              "      <td>-73.981160</td>\n",
              "      <td>40.767807</td>\n",
              "      <td>-73.990448</td>\n",
              "      <td>40.751635</td>\n",
              "      <td>1</td>\n",
              "    </tr>\n",
              "    <tr>\n",
              "      <th>4</th>\n",
              "      <td>2012-12-01 21:12:12 UTC</td>\n",
              "      <td>-73.966046</td>\n",
              "      <td>40.789775</td>\n",
              "      <td>-73.988565</td>\n",
              "      <td>40.744427</td>\n",
              "      <td>1</td>\n",
              "    </tr>\n",
              "  </tbody>\n",
              "</table>\n",
              "</div>"
            ],
            "text/plain": [
              "           pickup_datetime  pickup_longitude  ...  dropoff_latitude  passenger_count\n",
              "0  2015-01-27 13:08:24 UTC        -73.973320  ...         40.743835                1\n",
              "1  2015-01-27 13:08:24 UTC        -73.986862  ...         40.739201                1\n",
              "2  2011-10-08 11:53:44 UTC        -73.982524  ...         40.746139                1\n",
              "3  2012-12-01 21:12:12 UTC        -73.981160  ...         40.751635                1\n",
              "4  2012-12-01 21:12:12 UTC        -73.966046  ...         40.744427                1\n",
              "\n",
              "[5 rows x 6 columns]"
            ]
          },
          "metadata": {
            "tags": []
          },
          "execution_count": 24
        }
      ]
    },
    {
      "cell_type": "code",
      "metadata": {
        "id": "YOyalpLMdIL0"
      },
      "source": [
        "#Validating Test data \n",
        "dataset_test[\"pickup_datetime\"]=pd.to_datetime(dataset_test[\"pickup_datetime\"],format=\"%Y-%m-%d %H:%M:%S UTC\")\n",
        "\n",
        "# We will saperate the Pickup_datetime column into separate field like year, month, day of the week\n",
        "\n",
        "dataset_test['Year']=dataset_test['pickup_datetime'].dt.year\n",
        "dataset_test['Month']=dataset_test['pickup_datetime'].dt.month\n",
        "dataset_test['Date']=dataset_test['pickup_datetime'].dt.day\n",
        "dataset_test['Day']=dataset_test['pickup_datetime'].dt.dayofweek\n",
        "dataset_test['Hour']=dataset_test['pickup_datetime'].dt.hour\n",
        "dataset_test['Minute']=dataset_test['pickup_datetime'].dt.minute\n"
      ],
      "execution_count": 25,
      "outputs": []
    },
    {
      "cell_type": "code",
      "metadata": {
        "colab": {
          "base_uri": "https://localhost:8080/"
        },
        "id": "Q03pAATkdnfW",
        "outputId": "44a98c0b-335e-428f-d2f9-7dabddb3c6a3"
      },
      "source": [
        "# Re-checking test datatypes after conversion\n",
        "dataset_test.dtypes\n",
        "dataset_test.isnull().sum()"
      ],
      "execution_count": 26,
      "outputs": [
        {
          "output_type": "execute_result",
          "data": {
            "text/plain": [
              "pickup_datetime      0\n",
              "pickup_longitude     0\n",
              "pickup_latitude      0\n",
              "dropoff_longitude    0\n",
              "dropoff_latitude     0\n",
              "passenger_count      0\n",
              "Year                 0\n",
              "Month                0\n",
              "Date                 0\n",
              "Day                  0\n",
              "Hour                 0\n",
              "Minute               0\n",
              "dtype: int64"
            ]
          },
          "metadata": {
            "tags": []
          },
          "execution_count": 26
        }
      ]
    },
    {
      "cell_type": "markdown",
      "metadata": {
        "id": "kRXWkcUQsENP"
      },
      "source": [
        "|Train_dataset and Test_dataset are now used for analysis"
      ]
    },
    {
      "cell_type": "code",
      "metadata": {
        "id": "TZnNVELFsmjM"
      },
      "source": [
        "#We are using haversine formula to calculate distance between two points(pickup_latitude and pickup_longitute values)\n",
        "\n",
        "#Importing Math\n",
        "from math import radians, cos, sin, asin, sqrt\n",
        "def haversine(a):\n",
        "    longitute1=a[0]\n",
        "    latitude1=a[1]\n",
        "    longitute2=a[2]\n",
        "    latitude2=a[3]\n",
        "    \n",
        "    # Convert decimal degrees to radians \n",
        "    longitute1, latitude1, longitute2, latitude2 = map(radians, [longitute1, latitude1, longitute2, latitude2])\n",
        "\n",
        "    # haversine formula \n",
        "    dlon = longitute2 - longitute1 \n",
        "    dlat = latitude2 - latitude1 \n",
        "    a = sin(dlat/2)**2 + cos(latitude1) * cos(latitude2) * sin(dlon/2)**2\n",
        "    c =  2 * asin(sqrt(a))\n",
        "\n",
        "    # Radius of earth in kilometers is 6371\n",
        "    km = 6371* c\n",
        "    return km"
      ],
      "execution_count": 27,
      "outputs": []
    },
    {
      "cell_type": "code",
      "metadata": {
        "id": "Vz3oVOk8zo9_"
      },
      "source": [
        "dataset_train['distance'] = dataset_train[['pickup_longitude','pickup_latitude','dropoff_longitude','dropoff_latitude']].apply(haversine,axis=1)"
      ],
      "execution_count": 28,
      "outputs": []
    },
    {
      "cell_type": "code",
      "metadata": {
        "id": "UpOY1li6zvk-"
      },
      "source": [
        "dataset_test['distance'] = dataset_test[['pickup_longitude','pickup_latitude','dropoff_longitude','dropoff_latitude']].apply(haversine,axis=1)"
      ],
      "execution_count": 29,
      "outputs": []
    },
    {
      "cell_type": "code",
      "metadata": {
        "colab": {
          "base_uri": "https://localhost:8080/",
          "height": 309
        },
        "id": "DgXJDQnr568t",
        "outputId": "54cba3aa-3674-46ac-b58b-135711554f07"
      },
      "source": [
        "dataset_train.head()"
      ],
      "execution_count": 30,
      "outputs": [
        {
          "output_type": "execute_result",
          "data": {
            "text/html": [
              "<div>\n",
              "<style scoped>\n",
              "    .dataframe tbody tr th:only-of-type {\n",
              "        vertical-align: middle;\n",
              "    }\n",
              "\n",
              "    .dataframe tbody tr th {\n",
              "        vertical-align: top;\n",
              "    }\n",
              "\n",
              "    .dataframe thead th {\n",
              "        text-align: right;\n",
              "    }\n",
              "</style>\n",
              "<table border=\"1\" class=\"dataframe\">\n",
              "  <thead>\n",
              "    <tr style=\"text-align: right;\">\n",
              "      <th></th>\n",
              "      <th>fare_amount</th>\n",
              "      <th>pickup_datetime</th>\n",
              "      <th>pickup_longitude</th>\n",
              "      <th>pickup_latitude</th>\n",
              "      <th>dropoff_longitude</th>\n",
              "      <th>dropoff_latitude</th>\n",
              "      <th>passenger_count</th>\n",
              "      <th>Year</th>\n",
              "      <th>Month</th>\n",
              "      <th>Date</th>\n",
              "      <th>Day</th>\n",
              "      <th>Hour</th>\n",
              "      <th>Minute</th>\n",
              "      <th>distance</th>\n",
              "    </tr>\n",
              "  </thead>\n",
              "  <tbody>\n",
              "    <tr>\n",
              "      <th>0</th>\n",
              "      <td>4.5</td>\n",
              "      <td>2009-06-15 17:26:21</td>\n",
              "      <td>-73.844311</td>\n",
              "      <td>40.721319</td>\n",
              "      <td>-73.841610</td>\n",
              "      <td>40.712278</td>\n",
              "      <td>1.0</td>\n",
              "      <td>2009.0</td>\n",
              "      <td>6.0</td>\n",
              "      <td>15.0</td>\n",
              "      <td>0.0</td>\n",
              "      <td>17.0</td>\n",
              "      <td>26.0</td>\n",
              "      <td>1.030764</td>\n",
              "    </tr>\n",
              "    <tr>\n",
              "      <th>1</th>\n",
              "      <td>16.9</td>\n",
              "      <td>2010-01-05 16:52:16</td>\n",
              "      <td>-74.016048</td>\n",
              "      <td>40.711303</td>\n",
              "      <td>-73.979268</td>\n",
              "      <td>40.782004</td>\n",
              "      <td>1.0</td>\n",
              "      <td>2010.0</td>\n",
              "      <td>1.0</td>\n",
              "      <td>5.0</td>\n",
              "      <td>1.0</td>\n",
              "      <td>16.0</td>\n",
              "      <td>52.0</td>\n",
              "      <td>8.450134</td>\n",
              "    </tr>\n",
              "    <tr>\n",
              "      <th>2</th>\n",
              "      <td>5.7</td>\n",
              "      <td>2011-08-18 00:35:00</td>\n",
              "      <td>-73.982738</td>\n",
              "      <td>40.761270</td>\n",
              "      <td>-73.991242</td>\n",
              "      <td>40.750562</td>\n",
              "      <td>2.0</td>\n",
              "      <td>2011.0</td>\n",
              "      <td>8.0</td>\n",
              "      <td>18.0</td>\n",
              "      <td>3.0</td>\n",
              "      <td>0.0</td>\n",
              "      <td>35.0</td>\n",
              "      <td>1.389525</td>\n",
              "    </tr>\n",
              "    <tr>\n",
              "      <th>3</th>\n",
              "      <td>7.7</td>\n",
              "      <td>2012-04-21 04:30:42</td>\n",
              "      <td>-73.987130</td>\n",
              "      <td>40.733143</td>\n",
              "      <td>-73.991567</td>\n",
              "      <td>40.758092</td>\n",
              "      <td>1.0</td>\n",
              "      <td>2012.0</td>\n",
              "      <td>4.0</td>\n",
              "      <td>21.0</td>\n",
              "      <td>5.0</td>\n",
              "      <td>4.0</td>\n",
              "      <td>30.0</td>\n",
              "      <td>2.799270</td>\n",
              "    </tr>\n",
              "    <tr>\n",
              "      <th>4</th>\n",
              "      <td>5.3</td>\n",
              "      <td>2010-03-09 07:51:00</td>\n",
              "      <td>-73.968095</td>\n",
              "      <td>40.768008</td>\n",
              "      <td>-73.956655</td>\n",
              "      <td>40.783762</td>\n",
              "      <td>1.0</td>\n",
              "      <td>2010.0</td>\n",
              "      <td>3.0</td>\n",
              "      <td>9.0</td>\n",
              "      <td>1.0</td>\n",
              "      <td>7.0</td>\n",
              "      <td>51.0</td>\n",
              "      <td>1.999157</td>\n",
              "    </tr>\n",
              "  </tbody>\n",
              "</table>\n",
              "</div>"
            ],
            "text/plain": [
              "   fare_amount     pickup_datetime  pickup_longitude  ...  Hour  Minute  distance\n",
              "0          4.5 2009-06-15 17:26:21        -73.844311  ...  17.0    26.0  1.030764\n",
              "1         16.9 2010-01-05 16:52:16        -74.016048  ...  16.0    52.0  8.450134\n",
              "2          5.7 2011-08-18 00:35:00        -73.982738  ...   0.0    35.0  1.389525\n",
              "3          7.7 2012-04-21 04:30:42        -73.987130  ...   4.0    30.0  2.799270\n",
              "4          5.3 2010-03-09 07:51:00        -73.968095  ...   7.0    51.0  1.999157\n",
              "\n",
              "[5 rows x 14 columns]"
            ]
          },
          "metadata": {
            "tags": []
          },
          "execution_count": 30
        }
      ]
    },
    {
      "cell_type": "code",
      "metadata": {
        "colab": {
          "base_uri": "https://localhost:8080/",
          "height": 309
        },
        "id": "4n8wBMgx9JTN",
        "outputId": "94b44d62-5e49-4d4b-f241-c8c2b6c41619"
      },
      "source": [
        "dataset_test.head()"
      ],
      "execution_count": 31,
      "outputs": [
        {
          "output_type": "execute_result",
          "data": {
            "text/html": [
              "<div>\n",
              "<style scoped>\n",
              "    .dataframe tbody tr th:only-of-type {\n",
              "        vertical-align: middle;\n",
              "    }\n",
              "\n",
              "    .dataframe tbody tr th {\n",
              "        vertical-align: top;\n",
              "    }\n",
              "\n",
              "    .dataframe thead th {\n",
              "        text-align: right;\n",
              "    }\n",
              "</style>\n",
              "<table border=\"1\" class=\"dataframe\">\n",
              "  <thead>\n",
              "    <tr style=\"text-align: right;\">\n",
              "      <th></th>\n",
              "      <th>pickup_datetime</th>\n",
              "      <th>pickup_longitude</th>\n",
              "      <th>pickup_latitude</th>\n",
              "      <th>dropoff_longitude</th>\n",
              "      <th>dropoff_latitude</th>\n",
              "      <th>passenger_count</th>\n",
              "      <th>Year</th>\n",
              "      <th>Month</th>\n",
              "      <th>Date</th>\n",
              "      <th>Day</th>\n",
              "      <th>Hour</th>\n",
              "      <th>Minute</th>\n",
              "      <th>distance</th>\n",
              "    </tr>\n",
              "  </thead>\n",
              "  <tbody>\n",
              "    <tr>\n",
              "      <th>0</th>\n",
              "      <td>2015-01-27 13:08:24</td>\n",
              "      <td>-73.973320</td>\n",
              "      <td>40.763805</td>\n",
              "      <td>-73.981430</td>\n",
              "      <td>40.743835</td>\n",
              "      <td>1</td>\n",
              "      <td>2015</td>\n",
              "      <td>1</td>\n",
              "      <td>27</td>\n",
              "      <td>1</td>\n",
              "      <td>13</td>\n",
              "      <td>8</td>\n",
              "      <td>2.323259</td>\n",
              "    </tr>\n",
              "    <tr>\n",
              "      <th>1</th>\n",
              "      <td>2015-01-27 13:08:24</td>\n",
              "      <td>-73.986862</td>\n",
              "      <td>40.719383</td>\n",
              "      <td>-73.998886</td>\n",
              "      <td>40.739201</td>\n",
              "      <td>1</td>\n",
              "      <td>2015</td>\n",
              "      <td>1</td>\n",
              "      <td>27</td>\n",
              "      <td>1</td>\n",
              "      <td>13</td>\n",
              "      <td>8</td>\n",
              "      <td>2.425353</td>\n",
              "    </tr>\n",
              "    <tr>\n",
              "      <th>2</th>\n",
              "      <td>2011-10-08 11:53:44</td>\n",
              "      <td>-73.982524</td>\n",
              "      <td>40.751260</td>\n",
              "      <td>-73.979654</td>\n",
              "      <td>40.746139</td>\n",
              "      <td>1</td>\n",
              "      <td>2011</td>\n",
              "      <td>10</td>\n",
              "      <td>8</td>\n",
              "      <td>5</td>\n",
              "      <td>11</td>\n",
              "      <td>53</td>\n",
              "      <td>0.618628</td>\n",
              "    </tr>\n",
              "    <tr>\n",
              "      <th>3</th>\n",
              "      <td>2012-12-01 21:12:12</td>\n",
              "      <td>-73.981160</td>\n",
              "      <td>40.767807</td>\n",
              "      <td>-73.990448</td>\n",
              "      <td>40.751635</td>\n",
              "      <td>1</td>\n",
              "      <td>2012</td>\n",
              "      <td>12</td>\n",
              "      <td>1</td>\n",
              "      <td>5</td>\n",
              "      <td>21</td>\n",
              "      <td>12</td>\n",
              "      <td>1.961033</td>\n",
              "    </tr>\n",
              "    <tr>\n",
              "      <th>4</th>\n",
              "      <td>2012-12-01 21:12:12</td>\n",
              "      <td>-73.966046</td>\n",
              "      <td>40.789775</td>\n",
              "      <td>-73.988565</td>\n",
              "      <td>40.744427</td>\n",
              "      <td>1</td>\n",
              "      <td>2012</td>\n",
              "      <td>12</td>\n",
              "      <td>1</td>\n",
              "      <td>5</td>\n",
              "      <td>21</td>\n",
              "      <td>12</td>\n",
              "      <td>5.387301</td>\n",
              "    </tr>\n",
              "  </tbody>\n",
              "</table>\n",
              "</div>"
            ],
            "text/plain": [
              "      pickup_datetime  pickup_longitude  ...  Minute  distance\n",
              "0 2015-01-27 13:08:24        -73.973320  ...       8  2.323259\n",
              "1 2015-01-27 13:08:24        -73.986862  ...       8  2.425353\n",
              "2 2011-10-08 11:53:44        -73.982524  ...      53  0.618628\n",
              "3 2012-12-01 21:12:12        -73.981160  ...      12  1.961033\n",
              "4 2012-12-01 21:12:12        -73.966046  ...      12  5.387301\n",
              "\n",
              "[5 rows x 13 columns]"
            ]
          },
          "metadata": {
            "tags": []
          },
          "execution_count": 31
        }
      ]
    },
    {
      "cell_type": "code",
      "metadata": {
        "colab": {
          "base_uri": "https://localhost:8080/"
        },
        "id": "Pe9Xmco0HRcA",
        "outputId": "8a41ac57-bbe9-4a35-cdde-9f4f7755bf9e"
      },
      "source": [
        "dataset_train.nunique()"
      ],
      "execution_count": 32,
      "outputs": [
        {
          "output_type": "execute_result",
          "data": {
            "text/plain": [
              "fare_amount            459\n",
              "pickup_datetime      15856\n",
              "pickup_longitude     13672\n",
              "pickup_latitude      14110\n",
              "dropoff_longitude    13763\n",
              "dropoff_latitude     14136\n",
              "passenger_count          7\n",
              "Year                     7\n",
              "Month                   12\n",
              "Date                    31\n",
              "Day                      7\n",
              "Hour                    24\n",
              "Minute                  60\n",
              "distance             15448\n",
              "dtype: int64"
            ]
          },
          "metadata": {
            "tags": []
          },
          "execution_count": 32
        }
      ]
    },
    {
      "cell_type": "code",
      "metadata": {
        "colab": {
          "base_uri": "https://localhost:8080/"
        },
        "id": "c_4YuQphHf_8",
        "outputId": "430fa3df-d9c9-4ffb-ff6e-c70ec5c0043f"
      },
      "source": [
        "dataset_test.nunique()"
      ],
      "execution_count": 33,
      "outputs": [
        {
          "output_type": "execute_result",
          "data": {
            "text/plain": [
              "pickup_datetime      1753\n",
              "pickup_longitude     9124\n",
              "pickup_latitude      9246\n",
              "dropoff_longitude    9141\n",
              "dropoff_latitude     9360\n",
              "passenger_count         6\n",
              "Year                    7\n",
              "Month                  12\n",
              "Date                   31\n",
              "Day                     7\n",
              "Hour                   24\n",
              "Minute                 60\n",
              "distance             9830\n",
              "dtype: int64"
            ]
          },
          "metadata": {
            "tags": []
          },
          "execution_count": 33
        }
      ]
    },
    {
      "cell_type": "code",
      "metadata": {
        "colab": {
          "base_uri": "https://localhost:8080/"
        },
        "id": "2aBW9m43Hoxg",
        "outputId": "b5e5db06-bc09-415e-f3af-ba042771e1d3"
      },
      "source": [
        "# Finding decending order of distance to get to know whether the outliers are presented or not.\n",
        "dataset_train['distance'].sort_values(ascending=False)"
      ],
      "execution_count": 34,
      "outputs": [
        {
          "output_type": "execute_result",
          "data": {
            "text/plain": [
              "9147     8667.542104\n",
              "8647     8667.497512\n",
              "2397     8667.454421\n",
              "472      8667.304968\n",
              "11653    8666.701504\n",
              "            ...     \n",
              "13050       0.000000\n",
              "11593       0.000000\n",
              "2346        0.000000\n",
              "8331        0.000000\n",
              "1637        0.000000\n",
              "Name: distance, Length: 15901, dtype: float64"
            ]
          },
          "metadata": {
            "tags": []
          },
          "execution_count": 34
        }
      ]
    },
    {
      "cell_type": "markdown",
      "metadata": {
        "id": "UdYyUfVwIN-y"
      },
      "source": [
        "OBSERVATIONS\n",
        "\n",
        "As we can see that top 23 values in the distance variables are very high.\n",
        "It means more than 8000 Kms distance they have travelled.\n",
        "Just after 23rd value from the top, the distance goes down to 129, which means these values are showing some outliers.\n",
        "We need to remove these values."
      ]
    },
    {
      "cell_type": "code",
      "metadata": {
        "colab": {
          "base_uri": "https://localhost:8080/"
        },
        "id": "Qh9YfkUDH4SU",
        "outputId": "274bb636-8ad1-4885-a549-3b1371ff0dcc"
      },
      "source": [
        "Counter(dataset_train['distance'] == 0)"
      ],
      "execution_count": 35,
      "outputs": [
        {
          "output_type": "execute_result",
          "data": {
            "text/plain": [
              "Counter({False: 15447, True: 454})"
            ]
          },
          "metadata": {
            "tags": []
          },
          "execution_count": 35
        }
      ]
    },
    {
      "cell_type": "code",
      "metadata": {
        "colab": {
          "base_uri": "https://localhost:8080/"
        },
        "id": "K4F_qPqcIWyO",
        "outputId": "29a58146-f01e-48e5-d680-d5ec8439f7e9"
      },
      "source": [
        "Counter(dataset_test['distance']==0)"
      ],
      "execution_count": 36,
      "outputs": [
        {
          "output_type": "execute_result",
          "data": {
            "text/plain": [
              "Counter({False: 9829, True: 85})"
            ]
          },
          "metadata": {
            "tags": []
          },
          "execution_count": 36
        }
      ]
    },
    {
      "cell_type": "code",
      "metadata": {
        "colab": {
          "base_uri": "https://localhost:8080/"
        },
        "id": "TTA3x0eLIhYl",
        "outputId": "1f9dac1c-b6b1-40cf-d22b-3c5058281f95"
      },
      "source": [
        "# We will remove the rows whose distance value is zero\n",
        "\n",
        "dataset_train = dataset_train.drop(dataset_train[dataset_train['distance']== 0].index, axis=0)\n",
        "dataset_train.shape"
      ],
      "execution_count": 37,
      "outputs": [
        {
          "output_type": "execute_result",
          "data": {
            "text/plain": [
              "(15447, 14)"
            ]
          },
          "metadata": {
            "tags": []
          },
          "execution_count": 37
        }
      ]
    },
    {
      "cell_type": "code",
      "metadata": {
        "colab": {
          "base_uri": "https://localhost:8080/"
        },
        "id": "kD-IBEPiIw9l",
        "outputId": "06d08884-0d53-4a5f-8af7-ddaccc8b984a"
      },
      "source": [
        "# We will remove the rows whose distance values is very high, which is more than 129kms.\n",
        "\n",
        "dataset_train = dataset_train.drop(dataset_train[dataset_train['distance'] > 130 ].index, axis=0)\n",
        "dataset_train.shape"
      ],
      "execution_count": 38,
      "outputs": [
        {
          "output_type": "execute_result",
          "data": {
            "text/plain": [
              "(15424, 14)"
            ]
          },
          "metadata": {
            "tags": []
          },
          "execution_count": 38
        }
      ]
    },
    {
      "cell_type": "code",
      "metadata": {
        "colab": {
          "base_uri": "https://localhost:8080/",
          "height": 309
        },
        "id": "CAG-1DlAI9Ml",
        "outputId": "01767446-b24f-4218-aa3e-d3897cd6f297"
      },
      "source": [
        "dataset_train.head()"
      ],
      "execution_count": 39,
      "outputs": [
        {
          "output_type": "execute_result",
          "data": {
            "text/html": [
              "<div>\n",
              "<style scoped>\n",
              "    .dataframe tbody tr th:only-of-type {\n",
              "        vertical-align: middle;\n",
              "    }\n",
              "\n",
              "    .dataframe tbody tr th {\n",
              "        vertical-align: top;\n",
              "    }\n",
              "\n",
              "    .dataframe thead th {\n",
              "        text-align: right;\n",
              "    }\n",
              "</style>\n",
              "<table border=\"1\" class=\"dataframe\">\n",
              "  <thead>\n",
              "    <tr style=\"text-align: right;\">\n",
              "      <th></th>\n",
              "      <th>fare_amount</th>\n",
              "      <th>pickup_datetime</th>\n",
              "      <th>pickup_longitude</th>\n",
              "      <th>pickup_latitude</th>\n",
              "      <th>dropoff_longitude</th>\n",
              "      <th>dropoff_latitude</th>\n",
              "      <th>passenger_count</th>\n",
              "      <th>Year</th>\n",
              "      <th>Month</th>\n",
              "      <th>Date</th>\n",
              "      <th>Day</th>\n",
              "      <th>Hour</th>\n",
              "      <th>Minute</th>\n",
              "      <th>distance</th>\n",
              "    </tr>\n",
              "  </thead>\n",
              "  <tbody>\n",
              "    <tr>\n",
              "      <th>0</th>\n",
              "      <td>4.5</td>\n",
              "      <td>2009-06-15 17:26:21</td>\n",
              "      <td>-73.844311</td>\n",
              "      <td>40.721319</td>\n",
              "      <td>-73.841610</td>\n",
              "      <td>40.712278</td>\n",
              "      <td>1.0</td>\n",
              "      <td>2009.0</td>\n",
              "      <td>6.0</td>\n",
              "      <td>15.0</td>\n",
              "      <td>0.0</td>\n",
              "      <td>17.0</td>\n",
              "      <td>26.0</td>\n",
              "      <td>1.030764</td>\n",
              "    </tr>\n",
              "    <tr>\n",
              "      <th>1</th>\n",
              "      <td>16.9</td>\n",
              "      <td>2010-01-05 16:52:16</td>\n",
              "      <td>-74.016048</td>\n",
              "      <td>40.711303</td>\n",
              "      <td>-73.979268</td>\n",
              "      <td>40.782004</td>\n",
              "      <td>1.0</td>\n",
              "      <td>2010.0</td>\n",
              "      <td>1.0</td>\n",
              "      <td>5.0</td>\n",
              "      <td>1.0</td>\n",
              "      <td>16.0</td>\n",
              "      <td>52.0</td>\n",
              "      <td>8.450134</td>\n",
              "    </tr>\n",
              "    <tr>\n",
              "      <th>2</th>\n",
              "      <td>5.7</td>\n",
              "      <td>2011-08-18 00:35:00</td>\n",
              "      <td>-73.982738</td>\n",
              "      <td>40.761270</td>\n",
              "      <td>-73.991242</td>\n",
              "      <td>40.750562</td>\n",
              "      <td>2.0</td>\n",
              "      <td>2011.0</td>\n",
              "      <td>8.0</td>\n",
              "      <td>18.0</td>\n",
              "      <td>3.0</td>\n",
              "      <td>0.0</td>\n",
              "      <td>35.0</td>\n",
              "      <td>1.389525</td>\n",
              "    </tr>\n",
              "    <tr>\n",
              "      <th>3</th>\n",
              "      <td>7.7</td>\n",
              "      <td>2012-04-21 04:30:42</td>\n",
              "      <td>-73.987130</td>\n",
              "      <td>40.733143</td>\n",
              "      <td>-73.991567</td>\n",
              "      <td>40.758092</td>\n",
              "      <td>1.0</td>\n",
              "      <td>2012.0</td>\n",
              "      <td>4.0</td>\n",
              "      <td>21.0</td>\n",
              "      <td>5.0</td>\n",
              "      <td>4.0</td>\n",
              "      <td>30.0</td>\n",
              "      <td>2.799270</td>\n",
              "    </tr>\n",
              "    <tr>\n",
              "      <th>4</th>\n",
              "      <td>5.3</td>\n",
              "      <td>2010-03-09 07:51:00</td>\n",
              "      <td>-73.968095</td>\n",
              "      <td>40.768008</td>\n",
              "      <td>-73.956655</td>\n",
              "      <td>40.783762</td>\n",
              "      <td>1.0</td>\n",
              "      <td>2010.0</td>\n",
              "      <td>3.0</td>\n",
              "      <td>9.0</td>\n",
              "      <td>1.0</td>\n",
              "      <td>7.0</td>\n",
              "      <td>51.0</td>\n",
              "      <td>1.999157</td>\n",
              "    </tr>\n",
              "  </tbody>\n",
              "</table>\n",
              "</div>"
            ],
            "text/plain": [
              "   fare_amount     pickup_datetime  pickup_longitude  ...  Hour  Minute  distance\n",
              "0          4.5 2009-06-15 17:26:21        -73.844311  ...  17.0    26.0  1.030764\n",
              "1         16.9 2010-01-05 16:52:16        -74.016048  ...  16.0    52.0  8.450134\n",
              "2          5.7 2011-08-18 00:35:00        -73.982738  ...   0.0    35.0  1.389525\n",
              "3          7.7 2012-04-21 04:30:42        -73.987130  ...   4.0    30.0  2.799270\n",
              "4          5.3 2010-03-09 07:51:00        -73.968095  ...   7.0    51.0  1.999157\n",
              "\n",
              "[5 rows x 14 columns]"
            ]
          },
          "metadata": {
            "tags": []
          },
          "execution_count": 39
        }
      ]
    },
    {
      "cell_type": "markdown",
      "metadata": {
        "id": "ioje1cf6JEw0"
      },
      "source": [
        "OBSERVATIONS\n",
        "\n",
        "Now, we have splitted the pickup_datetime variable into different varaibles like month, year, day etc. Now, we dont need to have that pickup_datetime variable. Hence we can drop that."
      ]
    },
    {
      "cell_type": "code",
      "metadata": {
        "id": "IOFokWacJIvJ"
      },
      "source": [
        "drop1 = ['pickup_datetime', 'pickup_longitude', 'pickup_latitude','dropoff_longitude', 'dropoff_latitude', 'Minute']\n",
        "\n",
        "dataset_train = dataset_train.drop(drop1, axis = 1)"
      ],
      "execution_count": 40,
      "outputs": []
    },
    {
      "cell_type": "code",
      "metadata": {
        "colab": {
          "base_uri": "https://localhost:8080/",
          "height": 202
        },
        "id": "nBVzjV5aKG2N",
        "outputId": "909b7bc4-c14a-45e3-d82f-c5c6bdbb6327"
      },
      "source": [
        "dataset_train.head()"
      ],
      "execution_count": 41,
      "outputs": [
        {
          "output_type": "execute_result",
          "data": {
            "text/html": [
              "<div>\n",
              "<style scoped>\n",
              "    .dataframe tbody tr th:only-of-type {\n",
              "        vertical-align: middle;\n",
              "    }\n",
              "\n",
              "    .dataframe tbody tr th {\n",
              "        vertical-align: top;\n",
              "    }\n",
              "\n",
              "    .dataframe thead th {\n",
              "        text-align: right;\n",
              "    }\n",
              "</style>\n",
              "<table border=\"1\" class=\"dataframe\">\n",
              "  <thead>\n",
              "    <tr style=\"text-align: right;\">\n",
              "      <th></th>\n",
              "      <th>fare_amount</th>\n",
              "      <th>passenger_count</th>\n",
              "      <th>Year</th>\n",
              "      <th>Month</th>\n",
              "      <th>Date</th>\n",
              "      <th>Day</th>\n",
              "      <th>Hour</th>\n",
              "      <th>distance</th>\n",
              "    </tr>\n",
              "  </thead>\n",
              "  <tbody>\n",
              "    <tr>\n",
              "      <th>0</th>\n",
              "      <td>4.5</td>\n",
              "      <td>1.0</td>\n",
              "      <td>2009.0</td>\n",
              "      <td>6.0</td>\n",
              "      <td>15.0</td>\n",
              "      <td>0.0</td>\n",
              "      <td>17.0</td>\n",
              "      <td>1.030764</td>\n",
              "    </tr>\n",
              "    <tr>\n",
              "      <th>1</th>\n",
              "      <td>16.9</td>\n",
              "      <td>1.0</td>\n",
              "      <td>2010.0</td>\n",
              "      <td>1.0</td>\n",
              "      <td>5.0</td>\n",
              "      <td>1.0</td>\n",
              "      <td>16.0</td>\n",
              "      <td>8.450134</td>\n",
              "    </tr>\n",
              "    <tr>\n",
              "      <th>2</th>\n",
              "      <td>5.7</td>\n",
              "      <td>2.0</td>\n",
              "      <td>2011.0</td>\n",
              "      <td>8.0</td>\n",
              "      <td>18.0</td>\n",
              "      <td>3.0</td>\n",
              "      <td>0.0</td>\n",
              "      <td>1.389525</td>\n",
              "    </tr>\n",
              "    <tr>\n",
              "      <th>3</th>\n",
              "      <td>7.7</td>\n",
              "      <td>1.0</td>\n",
              "      <td>2012.0</td>\n",
              "      <td>4.0</td>\n",
              "      <td>21.0</td>\n",
              "      <td>5.0</td>\n",
              "      <td>4.0</td>\n",
              "      <td>2.799270</td>\n",
              "    </tr>\n",
              "    <tr>\n",
              "      <th>4</th>\n",
              "      <td>5.3</td>\n",
              "      <td>1.0</td>\n",
              "      <td>2010.0</td>\n",
              "      <td>3.0</td>\n",
              "      <td>9.0</td>\n",
              "      <td>1.0</td>\n",
              "      <td>7.0</td>\n",
              "      <td>1.999157</td>\n",
              "    </tr>\n",
              "  </tbody>\n",
              "</table>\n",
              "</div>"
            ],
            "text/plain": [
              "   fare_amount  passenger_count    Year  Month  Date  Day  Hour  distance\n",
              "0          4.5              1.0  2009.0    6.0  15.0  0.0  17.0  1.030764\n",
              "1         16.9              1.0  2010.0    1.0   5.0  1.0  16.0  8.450134\n",
              "2          5.7              2.0  2011.0    8.0  18.0  3.0   0.0  1.389525\n",
              "3          7.7              1.0  2012.0    4.0  21.0  5.0   4.0  2.799270\n",
              "4          5.3              1.0  2010.0    3.0   9.0  1.0   7.0  1.999157"
            ]
          },
          "metadata": {
            "tags": []
          },
          "execution_count": 41
        }
      ]
    },
    {
      "cell_type": "code",
      "metadata": {
        "id": "z5edaSg8JXfB"
      },
      "source": [
        "dataset_train['passenger_count'] = dataset_train['passenger_count'].astype('int64')\n",
        "dataset_train['Year'] = dataset_train['Year'].astype('int64')\n",
        "dataset_train['Month'] = dataset_train['Month'].astype('int64')\n",
        "dataset_train['Date'] = dataset_train['Date'].astype('int64')\n",
        "dataset_train['Day'] = dataset_train['Day'].astype('int64')\n",
        "dataset_train['Hour'] = dataset_train['Hour'].astype('int64')"
      ],
      "execution_count": 42,
      "outputs": []
    },
    {
      "cell_type": "code",
      "metadata": {
        "colab": {
          "base_uri": "https://localhost:8080/"
        },
        "id": "FM5OgfyJKrM8",
        "outputId": "35b569ca-5228-4c75-f88c-863686ff84b3"
      },
      "source": [
        "dataset_train.dtypes"
      ],
      "execution_count": 43,
      "outputs": [
        {
          "output_type": "execute_result",
          "data": {
            "text/plain": [
              "fare_amount        float64\n",
              "passenger_count      int64\n",
              "Year                 int64\n",
              "Month                int64\n",
              "Date                 int64\n",
              "Day                  int64\n",
              "Hour                 int64\n",
              "distance           float64\n",
              "dtype: object"
            ]
          },
          "metadata": {
            "tags": []
          },
          "execution_count": 43
        }
      ]
    },
    {
      "cell_type": "code",
      "metadata": {
        "colab": {
          "base_uri": "https://localhost:8080/",
          "height": 202
        },
        "id": "rJqGfHy7K1x3",
        "outputId": "abbc00bb-e4bb-4b12-e700-ea0d2b3ac262"
      },
      "source": [
        "drop2 = ['pickup_datetime', 'pickup_longitude', 'pickup_latitude','dropoff_longitude', 'dropoff_latitude', 'Minute']\n",
        "\n",
        "dataset_test = dataset_test.drop(drop2, axis = 1)\n",
        "dataset_test.head()"
      ],
      "execution_count": 44,
      "outputs": [
        {
          "output_type": "execute_result",
          "data": {
            "text/html": [
              "<div>\n",
              "<style scoped>\n",
              "    .dataframe tbody tr th:only-of-type {\n",
              "        vertical-align: middle;\n",
              "    }\n",
              "\n",
              "    .dataframe tbody tr th {\n",
              "        vertical-align: top;\n",
              "    }\n",
              "\n",
              "    .dataframe thead th {\n",
              "        text-align: right;\n",
              "    }\n",
              "</style>\n",
              "<table border=\"1\" class=\"dataframe\">\n",
              "  <thead>\n",
              "    <tr style=\"text-align: right;\">\n",
              "      <th></th>\n",
              "      <th>passenger_count</th>\n",
              "      <th>Year</th>\n",
              "      <th>Month</th>\n",
              "      <th>Date</th>\n",
              "      <th>Day</th>\n",
              "      <th>Hour</th>\n",
              "      <th>distance</th>\n",
              "    </tr>\n",
              "  </thead>\n",
              "  <tbody>\n",
              "    <tr>\n",
              "      <th>0</th>\n",
              "      <td>1</td>\n",
              "      <td>2015</td>\n",
              "      <td>1</td>\n",
              "      <td>27</td>\n",
              "      <td>1</td>\n",
              "      <td>13</td>\n",
              "      <td>2.323259</td>\n",
              "    </tr>\n",
              "    <tr>\n",
              "      <th>1</th>\n",
              "      <td>1</td>\n",
              "      <td>2015</td>\n",
              "      <td>1</td>\n",
              "      <td>27</td>\n",
              "      <td>1</td>\n",
              "      <td>13</td>\n",
              "      <td>2.425353</td>\n",
              "    </tr>\n",
              "    <tr>\n",
              "      <th>2</th>\n",
              "      <td>1</td>\n",
              "      <td>2011</td>\n",
              "      <td>10</td>\n",
              "      <td>8</td>\n",
              "      <td>5</td>\n",
              "      <td>11</td>\n",
              "      <td>0.618628</td>\n",
              "    </tr>\n",
              "    <tr>\n",
              "      <th>3</th>\n",
              "      <td>1</td>\n",
              "      <td>2012</td>\n",
              "      <td>12</td>\n",
              "      <td>1</td>\n",
              "      <td>5</td>\n",
              "      <td>21</td>\n",
              "      <td>1.961033</td>\n",
              "    </tr>\n",
              "    <tr>\n",
              "      <th>4</th>\n",
              "      <td>1</td>\n",
              "      <td>2012</td>\n",
              "      <td>12</td>\n",
              "      <td>1</td>\n",
              "      <td>5</td>\n",
              "      <td>21</td>\n",
              "      <td>5.387301</td>\n",
              "    </tr>\n",
              "  </tbody>\n",
              "</table>\n",
              "</div>"
            ],
            "text/plain": [
              "   passenger_count  Year  Month  Date  Day  Hour  distance\n",
              "0                1  2015      1    27    1    13  2.323259\n",
              "1                1  2015      1    27    1    13  2.425353\n",
              "2                1  2011     10     8    5    11  0.618628\n",
              "3                1  2012     12     1    5    21  1.961033\n",
              "4                1  2012     12     1    5    21  5.387301"
            ]
          },
          "metadata": {
            "tags": []
          },
          "execution_count": 44
        }
      ]
    },
    {
      "cell_type": "code",
      "metadata": {
        "id": "92UbDGDJLEWD"
      },
      "source": [
        "dataset_test['passenger_count'] = dataset_test['passenger_count'].astype('int64')\n",
        "dataset_test['Year'] = dataset_test['Year'].astype('int64')\n",
        "dataset_test['Month'] = dataset_test['Month'].astype('int64')\n",
        "dataset_test['Date'] = dataset_test['Date'].astype('int64')\n",
        "dataset_test['Day'] = dataset_test['Day'].astype('int64')\n",
        "dataset_test['Hour'] = dataset_test['Hour'].astype('int64')"
      ],
      "execution_count": 45,
      "outputs": []
    },
    {
      "cell_type": "code",
      "metadata": {
        "colab": {
          "base_uri": "https://localhost:8080/"
        },
        "id": "JVzkmDP2LNtT",
        "outputId": "95456873-2125-4ee6-e358-100edc04abba"
      },
      "source": [
        "dataset_test.dtypes"
      ],
      "execution_count": 46,
      "outputs": [
        {
          "output_type": "execute_result",
          "data": {
            "text/plain": [
              "passenger_count      int64\n",
              "Year                 int64\n",
              "Month                int64\n",
              "Date                 int64\n",
              "Day                  int64\n",
              "Hour                 int64\n",
              "distance           float64\n",
              "dtype: object"
            ]
          },
          "metadata": {
            "tags": []
          },
          "execution_count": 46
        }
      ]
    },
    {
      "cell_type": "code",
      "metadata": {
        "colab": {
          "base_uri": "https://localhost:8080/",
          "height": 439
        },
        "id": "LkRxmDvmLVRE",
        "outputId": "0eba6dc5-ac69-442c-efd2-5d51480e7641"
      },
      "source": [
        "#DATA VISUALIZATION \n",
        "\n",
        "# Data Count plot on passenger count\n",
        "\n",
        "plt.figure(figsize=(15,7))\n",
        "sns.countplot(x=\"passenger_count\", data=dataset_train)"
      ],
      "execution_count": 47,
      "outputs": [
        {
          "output_type": "execute_result",
          "data": {
            "text/plain": [
              "<matplotlib.axes._subplots.AxesSubplot at 0x7f9a15644e10>"
            ]
          },
          "metadata": {
            "tags": []
          },
          "execution_count": 47
        },
        {
          "output_type": "display_data",
          "data": {
            "image/png": "[encoded data removed]",
            "text/plain": [
              "<Figure size 1080x504 with 1 Axes>"
            ]
          },
          "metadata": {
            "tags": [],
            "needs_background": "light"
          }
        }
      ]
    },
    {
      "cell_type": "code",
      "metadata": {
        "colab": {
          "base_uri": "https://localhost:8080/",
          "height": 426
        },
        "id": "qStoRg25L444",
        "outputId": "d07c4f7f-4bfa-4ec5-dd4d-8abf573bd7c7"
      },
      "source": [
        "# Finding Relation beetween number of passengers and Fare\n",
        "\n",
        "plt.figure(figsize=(15,7))\n",
        "plt.scatter(x=dataset_train['passenger_count'], y=dataset_train['fare_amount'], s=10)\n",
        "plt.xlabel('Number of Passengers')\n",
        "plt.ylabel('Fare amount')\n",
        "plt.show()"
      ],
      "execution_count": 48,
      "outputs": [
        {
          "output_type": "display_data",
          "data": {
            "image/png": "[encoded data removed]",
            "text/plain": [
              "<Figure size 1080x504 with 1 Axes>"
            ]
          },
          "metadata": {
            "tags": [],
            "needs_background": "light"
          }
        }
      ]
    },
    {
      "cell_type": "markdown",
      "metadata": {
        "id": "QD5SY2_mNOd7"
      },
      "source": [
        "OBSERVATIONS\n",
        "\n",
        "By seeing the above plots we can easily conclude that:\n",
        "\n",
        "* Single travelling passengers are most frequent travellers.\n",
        "* At the sametime, we can also conclude that highest Fare are coming from single & double travelling passengers."
      ]
    },
    {
      "cell_type": "code",
      "metadata": {
        "colab": {
          "base_uri": "https://localhost:8080/",
          "height": 426
        },
        "id": "LUHgY7DzMVl5",
        "outputId": "ddc80f33-6694-44cf-cfd5-343606a3df51"
      },
      "source": [
        "# Relationship between date and Fare\n",
        "\n",
        "plt.figure(figsize=(15,7))\n",
        "plt.scatter(x=dataset_train['Date'], y=dataset_train['fare_amount'], s=10)\n",
        "plt.xlabel('Date')\n",
        "plt.ylabel('Fare')\n",
        "plt.show()"
      ],
      "execution_count": 49,
      "outputs": [
        {
          "output_type": "display_data",
          "data": {
            "image/png": "[encoded data removed]",
            "text/plain": [
              "<Figure size 1080x504 with 1 Axes>"
            ]
          },
          "metadata": {
            "tags": [],
            "needs_background": "light"
          }
        }
      ]
    },
    {
      "cell_type": "code",
      "metadata": {
        "colab": {
          "base_uri": "https://localhost:8080/",
          "height": 467
        },
        "id": "4EsKA0TVNmWt",
        "outputId": "bfd234cd-a99d-483e-8252-0f0d32417760"
      },
      "source": [
        "plt.figure(figsize=(15,7))\n",
        "dataset_train.groupby(dataset_train[\"Hour\"])['Hour'].count().plot(kind=\"bar\")\n",
        "plt.show()"
      ],
      "execution_count": 50,
      "outputs": [
        {
          "output_type": "display_data",
          "data": {
            "image/png": "[encoded data removed]",
            "text/plain": [
              "<Figure size 1080x504 with 1 Axes>"
            ]
          },
          "metadata": {
            "tags": [],
            "needs_background": "light"
          }
        }
      ]
    },
    {
      "cell_type": "markdown",
      "metadata": {
        "id": "bdENhp7VN4CR"
      },
      "source": [
        "OBSERVATIONS\n",
        "\n",
        "Lowest cabs at 5 AM and highest at around 7 PM i.e the office rush hours"
      ]
    },
    {
      "cell_type": "code",
      "metadata": {
        "colab": {
          "base_uri": "https://localhost:8080/",
          "height": 426
        },
        "id": "QUN1zcZAN4-P",
        "outputId": "6d384093-8565-436a-beaa-e4d9e953efba"
      },
      "source": [
        "#Relationship between Time and Fare\n",
        "\n",
        "plt.figure(figsize=(15,7))\n",
        "plt.scatter(x=dataset_train['Hour'], y=dataset_train['fare_amount'], s=10)\n",
        "plt.xlabel('Hour')\n",
        "plt.ylabel('Fare')\n",
        "plt.show()"
      ],
      "execution_count": 51,
      "outputs": [
        {
          "output_type": "display_data",
          "data": {
            "image/png": "[encoded data removed]",
            "text/plain": [
              "<Figure size 1080x504 with 1 Axes>"
            ]
          },
          "metadata": {
            "tags": [],
            "needs_background": "light"
          }
        }
      ]
    },
    {
      "cell_type": "markdown",
      "metadata": {
        "id": "4K4_44cwOPLF"
      },
      "source": [
        "OBSERVATIONS\n",
        "\n",
        "From the above plot, We can observe that the cabs taken at 7 am and 23(11 Pm) are the costliest.\n",
        "Hence we can assume that cabs taken early in morning and late at night are costliest"
      ]
    },
    {
      "cell_type": "code",
      "metadata": {
        "colab": {
          "base_uri": "https://localhost:8080/",
          "height": 441
        },
        "id": "ztpK1YqeOR7F",
        "outputId": "e6b4da8e-446f-4e3c-e17f-1d6ad7fe6061"
      },
      "source": [
        "# Impact of Day on the number of cab rides\n",
        "\n",
        "plt.figure(figsize=(15,7))\n",
        "sns.countplot(x=\"Day\", data=dataset_train)"
      ],
      "execution_count": 52,
      "outputs": [
        {
          "output_type": "execute_result",
          "data": {
            "text/plain": [
              "<matplotlib.axes._subplots.AxesSubplot at 0x7f9a13c51588>"
            ]
          },
          "metadata": {
            "tags": []
          },
          "execution_count": 52
        },
        {
          "output_type": "display_data",
          "data": {
            "image/png": "[encoded data removed]",
            "text/plain": [
              "<Figure size 1080x504 with 1 Axes>"
            ]
          },
          "metadata": {
            "tags": [],
            "needs_background": "light"
          }
        }
      ]
    },
    {
      "cell_type": "markdown",
      "metadata": {
        "id": "EYPrX6SJOiev"
      },
      "source": [
        "OBSERVATIONS\n",
        "\n",
        "The day of the week does not seem to have much influence on the number of cabs ride."
      ]
    },
    {
      "cell_type": "code",
      "metadata": {
        "colab": {
          "base_uri": "https://localhost:8080/",
          "height": 426
        },
        "id": "W9MiZbJ0Ok7W",
        "outputId": "4524f049-5f44-49c2-d479-6ddd5f2d6c43"
      },
      "source": [
        "#Relationships between day and Fare\n",
        "\n",
        "plt.figure(figsize=(15,7))\n",
        "plt.scatter(x=dataset_train['Day'], y=dataset_train['fare_amount'], s=10)\n",
        "plt.xlabel('Day')\n",
        "plt.ylabel('Fare')\n",
        "plt.show()"
      ],
      "execution_count": 53,
      "outputs": [
        {
          "output_type": "display_data",
          "data": {
            "image/png": "[encoded data removed]",
            "text/plain": [
              "<Figure size 1080x504 with 1 Axes>"
            ]
          },
          "metadata": {
            "tags": [],
            "needs_background": "light"
          }
        }
      ]
    },
    {
      "cell_type": "markdown",
      "metadata": {
        "id": "zl1hyHNiOylr"
      },
      "source": [
        "OBSERVATIONS\n",
        "\n",
        "The highest fare seem to be on a Sunday, Monday and Thursday, and the low on Wednesday and Saturday.\n",
        "May be due to low demand of the cabs on saturdays the cab fare is low and high demand of cabs on sunday and monday shows the high fare prices."
      ]
    },
    {
      "cell_type": "code",
      "metadata": {
        "colab": {
          "base_uri": "https://localhost:8080/",
          "height": 426
        },
        "id": "eUHwg0gnOuiN",
        "outputId": "fc59116f-a1f4-4e0d-97e3-4eb2f71ad1e3"
      },
      "source": [
        "#Relationship between distance and fare \n",
        "\n",
        "plt.figure(figsize=(15,7))\n",
        "plt.scatter(x = dataset_train['distance'],y = dataset_train['fare_amount'],c = \"g\")\n",
        "plt.xlabel('Distance')\n",
        "plt.ylabel('Fare')\n",
        "plt.show()"
      ],
      "execution_count": 54,
      "outputs": [
        {
          "output_type": "display_data",
          "data": {
            "image/png": "[encoded data removed]",
            "text/plain": [
              "<Figure size 1080x504 with 1 Axes>"
            ]
          },
          "metadata": {
            "tags": [],
            "needs_background": "light"
          }
        }
      ]
    },
    {
      "cell_type": "markdown",
      "metadata": {
        "id": "sf30-j7lPEB8"
      },
      "source": [
        "OBSERVATIONS\n",
        "\n",
        "It is quite obvious that distance will effect the amount of fare."
      ]
    },
    {
      "cell_type": "code",
      "metadata": {
        "id": "NSZl4D-EWOCx"
      },
      "source": [
        "test1= dataset_test.copy()"
      ],
      "execution_count": 55,
      "outputs": []
    },
    {
      "cell_type": "markdown",
      "metadata": {
        "id": "Tl_t-MO3WiRb"
      },
      "source": [
        "APPLYING ML MODEL"
      ]
    },
    {
      "cell_type": "code",
      "metadata": {
        "id": "OloLZXRgWBWm"
      },
      "source": [
        "# train test split for further modelling\n",
        "\n",
        "x_train, x_test, y_train, y_test = train_test_split( dataset_train.iloc[:, dataset_train.columns != 'fare_amount'], \n",
        "                         dataset_train.iloc[:, 0], test_size = 0.20, random_state = 1)"
      ],
      "execution_count": 56,
      "outputs": []
    },
    {
      "cell_type": "code",
      "metadata": {
        "colab": {
          "base_uri": "https://localhost:8080/"
        },
        "id": "MyPDsrBUZGpk",
        "outputId": "8621f470-eba8-4a3a-b0b1-641450195d9f"
      },
      "source": [
        "print(x_train.shape)\n",
        "print(x_test.shape)"
      ],
      "execution_count": 57,
      "outputs": [
        {
          "output_type": "stream",
          "text": [
            "(12339, 7)\n",
            "(3085, 7)\n"
          ],
          "name": "stdout"
        }
      ]
    },
    {
      "cell_type": "markdown",
      "metadata": {
        "id": "q0FS6kjmlIMO"
      },
      "source": [
        "DECISION TREE MODEL"
      ]
    },
    {
      "cell_type": "code",
      "metadata": {
        "id": "XMvmHHj-k-ur"
      },
      "source": [
        "deci_tree_model = DecisionTreeRegressor(max_depth = 2).fit(x_train,y_train)"
      ],
      "execution_count": 58,
      "outputs": []
    },
    {
      "cell_type": "code",
      "metadata": {
        "id": "Ku26DBD8lPZF"
      },
      "source": [
        "# Prediction on train data\n",
        "\n",
        "prediction_train_dt = deci_tree_model.predict(x_train)\n",
        "\n",
        "\n",
        "\n",
        "# Prediction on test data\n",
        "\n",
        "prediction_test_dt = deci_tree_model.predict(x_test)"
      ],
      "execution_count": 59,
      "outputs": []
    },
    {
      "cell_type": "code",
      "metadata": {
        "id": "BlkSlF-BlVXw"
      },
      "source": [
        "# Calculating Mean Square Error and Mean Absolute Error for train data\n",
        "\n",
        "mean_sqr_error_train_dt = mean_squared_error(y_train, prediction_train_dt)\n",
        "mean_abs_error_train_dt = mean_absolute_error(y_train, prediction_train_dt)\n",
        "\n",
        "\n",
        "# Calculating Mean Square Error and Mean Absolute Error for test data\n",
        "\n",
        "mean_sqr_error_test_dt = mean_squared_error(y_test, prediction_test_dt)\n",
        "mean_abs_error_test_dt = mean_absolute_error(y_test, prediction_test_dt)\n"
      ],
      "execution_count": 60,
      "outputs": []
    },
    {
      "cell_type": "code",
      "metadata": {
        "colab": {
          "base_uri": "https://localhost:8080/"
        },
        "id": "2292X9-HlaoY",
        "outputId": "39890848-2f20-4ee0-e3a8-dc90eacf4531"
      },
      "source": [
        "print(\"Mean Squared Error for Train data = \"+str(mean_sqr_error_train_dt))\n",
        "print(\"Mean Absolute Error for Train data = \"+str(mean_abs_error_train_dt))\n",
        "\n",
        "print(\"Mean Squared Error for Test data = \"+str(mean_sqr_error_test_dt))\n",
        "print(\"Mean Absolute Error for Test data = \"+str(mean_abs_error_test_dt))"
      ],
      "execution_count": 61,
      "outputs": [
        {
          "output_type": "stream",
          "text": [
            "Mean Squared Error for Train data = 57.78346570031228\n",
            "Mean Absolute Error for Train data = 3.097110639270525\n",
            "Mean Squared Error for Test data = 20.288729313175885\n",
            "Mean Absolute Error for Test data = 2.8754616038553897\n"
          ],
          "name": "stdout"
        }
      ]
    },
    {
      "cell_type": "code",
      "metadata": {
        "colab": {
          "base_uri": "https://localhost:8080/"
        },
        "id": "pJeS06Z-lc5m",
        "outputId": "5c489045-fee8-494a-ea96-1b0002a15272"
      },
      "source": [
        "# R_square calculation for train data\n",
        "\n",
        "r2_score(y_train, prediction_train_dt)"
      ],
      "execution_count": 62,
      "outputs": [
        {
          "output_type": "execute_result",
          "data": {
            "text/plain": [
              "0.5325872525943498"
            ]
          },
          "metadata": {
            "tags": []
          },
          "execution_count": 62
        }
      ]
    },
    {
      "cell_type": "code",
      "metadata": {
        "colab": {
          "base_uri": "https://localhost:8080/"
        },
        "id": "9UlhjlC3li-x",
        "outputId": "5332de0b-d5a5-42fe-a268-4700965bf810"
      },
      "source": [
        "# R_square calculation for test data\n",
        "\n",
        "r2_score(y_test, prediction_test_dt)"
      ],
      "execution_count": 63,
      "outputs": [
        {
          "output_type": "execute_result",
          "data": {
            "text/plain": [
              "0.7295437941743981"
            ]
          },
          "metadata": {
            "tags": []
          },
          "execution_count": 63
        }
      ]
    },
    {
      "cell_type": "markdown",
      "metadata": {
        "id": "1oe23jfSmSvg"
      },
      "source": [
        "RANDOM FOREST MODEL"
      ]
    },
    {
      "cell_type": "code",
      "metadata": {
        "colab": {
          "base_uri": "https://localhost:8080/"
        },
        "id": "E1hH01u6mTlC",
        "outputId": "148b6743-7392-415e-8fce-971b50807ff2"
      },
      "source": [
        "rand_fore = RandomForestRegressor(n_estimators = 300)\n",
        "rand_fore.fit(x_train,y_train)"
      ],
      "execution_count": 64,
      "outputs": [
        {
          "output_type": "execute_result",
          "data": {
            "text/plain": [
              "RandomForestRegressor(bootstrap=True, ccp_alpha=0.0, criterion='mse',\n",
              "                      max_depth=None, max_features='auto', max_leaf_nodes=None,\n",
              "                      max_samples=None, min_impurity_decrease=0.0,\n",
              "                      min_impurity_split=None, min_samples_leaf=1,\n",
              "                      min_samples_split=2, min_weight_fraction_leaf=0.0,\n",
              "                      n_estimators=300, n_jobs=None, oob_score=False,\n",
              "                      random_state=None, verbose=0, warm_start=False)"
            ]
          },
          "metadata": {
            "tags": []
          },
          "execution_count": 64
        }
      ]
    },
    {
      "cell_type": "code",
      "metadata": {
        "id": "YCzG5DHZmepG"
      },
      "source": [
        "# Prediction on train data\n",
        "\n",
        "prediction_train_rf = rand_fore.predict(x_train)\n",
        "\n",
        "# Prediction on test data\n",
        "\n",
        "prediction_test_rf = rand_fore.predict(x_test)"
      ],
      "execution_count": 65,
      "outputs": []
    },
    {
      "cell_type": "code",
      "metadata": {
        "id": "8HOHpjuTmi3_"
      },
      "source": [
        "# Calculating Mean Squared Error and Mean Absolute Error for train data\n",
        "\n",
        "mean_sq_error_train = mean_squared_error(y_train, prediction_train_rf)\n",
        "mean_abs_error_train = mean_absolute_error(y_train, prediction_train_rf)\n",
        "\n",
        "# Calculating Mean Squared Error and Absolute Squared Error for test data\n",
        "\n",
        "mean_sq_error_test = mean_squared_error(y_test, prediction_test_rf)\n",
        "mean_abs_error_test = mean_absolute_error(y_test, prediction_test_rf)\n"
      ],
      "execution_count": 66,
      "outputs": []
    },
    {
      "cell_type": "code",
      "metadata": {
        "colab": {
          "base_uri": "https://localhost:8080/"
        },
        "id": "lrPbrob4mn4l",
        "outputId": "6c7eb441-ea7f-4855-bc26-1476b4d21d54"
      },
      "source": [
        "print(\"Mean Squared Error for Train data = \"+str(mean_sq_error_train))\n",
        "print(\"Mean Absolute Error for Train data = \"+str(mean_abs_error_train))\n",
        "print(\"Mean Squared Error for Test data = \"+str(mean_sq_error_test))\n",
        "print(\"Mean Absolute Error for Test data = \"+str(mean_abs_error_test))"
      ],
      "execution_count": 67,
      "outputs": [
        {
          "output_type": "stream",
          "text": [
            "Mean Squared Error for Train data = 8.81869321053526\n",
            "Mean Absolute Error for Train data = 0.8973008104384477\n",
            "Mean Squared Error for Test data = 15.214967233240044\n",
            "Mean Absolute Error for Test data = 2.140537493246893\n"
          ],
          "name": "stdout"
        }
      ]
    },
    {
      "cell_type": "code",
      "metadata": {
        "colab": {
          "base_uri": "https://localhost:8080/"
        },
        "id": "OjuHzyiEmsMi",
        "outputId": "4774a9d1-9a7b-4523-dc51-0eb5b8f3962f"
      },
      "source": [
        "# Calculate R_square for train data\n",
        "\n",
        "r2_score(y_train, prediction_train_rf)"
      ],
      "execution_count": 68,
      "outputs": [
        {
          "output_type": "execute_result",
          "data": {
            "text/plain": [
              "0.9286652406167191"
            ]
          },
          "metadata": {
            "tags": []
          },
          "execution_count": 68
        }
      ]
    },
    {
      "cell_type": "code",
      "metadata": {
        "colab": {
          "base_uri": "https://localhost:8080/"
        },
        "id": "tQ_BYVrCmxF_",
        "outputId": "942bb693-1191-47a2-f1b8-9905b4512a6b"
      },
      "source": [
        "# Calculate R_square for test data\n",
        "\n",
        "r2_score(y_test, prediction_test_rf)"
      ],
      "execution_count": 69,
      "outputs": [
        {
          "output_type": "execute_result",
          "data": {
            "text/plain": [
              "0.7971789042998069"
            ]
          },
          "metadata": {
            "tags": []
          },
          "execution_count": 69
        }
      ]
    },
    {
      "cell_type": "markdown",
      "metadata": {
        "id": "PjD12lwyowZk"
      },
      "source": [
        "LINEAR REGRESSION MODEL"
      ]
    },
    {
      "cell_type": "code",
      "metadata": {
        "id": "sgg1CGAoP59n"
      },
      "source": [
        "# Building model on top of training dataset\r\n",
        "\r\n",
        "model = LinearRegression().fit(x_train , y_train)"
      ],
      "execution_count": 70,
      "outputs": []
    },
    {
      "cell_type": "code",
      "metadata": {
        "id": "cr8S7Vjbozri"
      },
      "source": [
        "# Prediction on train data\r\n",
        "\r\n",
        "pred_train_LR = model.predict(x_train)"
      ],
      "execution_count": 71,
      "outputs": []
    },
    {
      "cell_type": "code",
      "metadata": {
        "id": "-WQUzQFro3kT"
      },
      "source": [
        "# Prediction on test data\r\n",
        "\r\n",
        "pred_test_LR= model.predict(x_test)"
      ],
      "execution_count": 72,
      "outputs": []
    },
    {
      "cell_type": "code",
      "metadata": {
        "id": "QENZUINDo5Qp"
      },
      "source": [
        "# RMSE for train data\r\n",
        "\r\n",
        "RMSE_train_LR= np.sqrt(mean_squared_error(y_train, pred_train_LR))"
      ],
      "execution_count": 73,
      "outputs": []
    },
    {
      "cell_type": "code",
      "metadata": {
        "id": "XyfiMbafo7v1"
      },
      "source": [
        "# RMSE for test data\r\n",
        "\r\n",
        "RMSE_test_LR= np.sqrt(mean_squared_error(y_test, pred_test_LR))"
      ],
      "execution_count": 74,
      "outputs": []
    },
    {
      "cell_type": "code",
      "metadata": {
        "colab": {
          "base_uri": "https://localhost:8080/"
        },
        "id": "ilCVMG_1o-Hp",
        "outputId": "9ef47bcd-b9e8-4060-f94a-572435408e76"
      },
      "source": [
        "print(\"Root Mean Squared Error for Train data = \"+str(RMSE_train_LR))\r\n",
        "print(\"Root Mean Squared Error for Test data = \"+str(RMSE_test_LR))"
      ],
      "execution_count": 75,
      "outputs": [
        {
          "output_type": "stream",
          "text": [
            "Root Mean Squared Error for Train data = 8.99100049041213\n",
            "Root Mean Squared Error for Test data = 5.332146690728364\n"
          ],
          "name": "stdout"
        }
      ]
    },
    {
      "cell_type": "code",
      "metadata": {
        "colab": {
          "base_uri": "https://localhost:8080/"
        },
        "id": "R5B7mAffpAZc",
        "outputId": "a087ff94-94d8-4375-974f-b39b3866e433"
      },
      "source": [
        "# Calculate R_square for train data\r\n",
        "\r\n",
        "from sklearn.metrics import r2_score\r\n",
        "\r\n",
        "r2_score(y_train, pred_train_LR)"
      ],
      "execution_count": 76,
      "outputs": [
        {
          "output_type": "execute_result",
          "data": {
            "text/plain": [
              "0.34609748309146127"
            ]
          },
          "metadata": {
            "tags": []
          },
          "execution_count": 76
        }
      ]
    },
    {
      "cell_type": "code",
      "metadata": {
        "colab": {
          "base_uri": "https://localhost:8080/"
        },
        "id": "bB6MUypUpJKf",
        "outputId": "41222122-0b05-4584-fcf8-4c76b0726b51"
      },
      "source": [
        "r2_score(y_test, pred_test_LR)"
      ],
      "execution_count": 77,
      "outputs": [
        {
          "output_type": "execute_result",
          "data": {
            "text/plain": [
              "0.6209938297138393"
            ]
          },
          "metadata": {
            "tags": []
          },
          "execution_count": 77
        }
      ]
    },
    {
      "cell_type": "markdown",
      "metadata": {
        "id": "nOfHq4ME5lBy"
      },
      "source": [
        "GRADIENT BOOSTING"
      ]
    },
    {
      "cell_type": "code",
      "metadata": {
        "id": "m_YTg_Wp5iAh"
      },
      "source": [
        "GB_MODEL = GradientBoostingRegressor().fit(x_train, y_train)"
      ],
      "execution_count": 78,
      "outputs": []
    },
    {
      "cell_type": "code",
      "metadata": {
        "id": "T-vyd4al5obM"
      },
      "source": [
        "# Prediction on train data\r\n",
        "\r\n",
        "pred_train_GB = GB_MODEL.predict(x_train)\r\n",
        "# Prediction on test data\r\n",
        "pred_test_GB = GB_MODEL.predict(x_test)"
      ],
      "execution_count": 79,
      "outputs": []
    },
    {
      "cell_type": "code",
      "metadata": {
        "id": "tDXFOKKu5rQS"
      },
      "source": [
        "# RMSE for train data\r\n",
        "\r\n",
        "RMSE_train_GB = np.sqrt(mean_squared_error(y_train, pred_train_GB))\r\n",
        "# RMSE for test data\r\n",
        "\r\n",
        "RMSE_test_GB = np.sqrt(mean_squared_error(y_test, pred_test_GB))"
      ],
      "execution_count": 80,
      "outputs": []
    },
    {
      "cell_type": "code",
      "metadata": {
        "colab": {
          "base_uri": "https://localhost:8080/"
        },
        "id": "TkSgjycG5wkw",
        "outputId": "8534907f-4e61-4266-c9b6-ec3a17450667"
      },
      "source": [
        "print(\"Root Mean Squared Error for Train data = \"+str(RMSE_train_GB))\r\n",
        "print(\"Root Mean Squared Error for Test data = \"+str(RMSE_test_GB))"
      ],
      "execution_count": 81,
      "outputs": [
        {
          "output_type": "stream",
          "text": [
            "Root Mean Squared Error for Train data = 5.885370347600377\n",
            "Root Mean Squared Error for Test data = 3.6556026013856964\n"
          ],
          "name": "stdout"
        }
      ]
    },
    {
      "cell_type": "code",
      "metadata": {
        "colab": {
          "base_uri": "https://localhost:8080/"
        },
        "id": "z-R_dLGq5zjH",
        "outputId": "e3b64ab0-954c-4f22-c550-db3b75a6a32c"
      },
      "source": [
        "# Calculate R_square for train data\r\n",
        "\r\n",
        "r2_score(y_train, pred_train_GB)"
      ],
      "execution_count": 82,
      "outputs": [
        {
          "output_type": "execute_result",
          "data": {
            "text/plain": [
              "0.7198152072614652"
            ]
          },
          "metadata": {
            "tags": []
          },
          "execution_count": 82
        }
      ]
    },
    {
      "cell_type": "code",
      "metadata": {
        "colab": {
          "base_uri": "https://localhost:8080/"
        },
        "id": "fFP9cIUz52wb",
        "outputId": "6698dbc9-72a8-40e7-fbf3-87f15883072b"
      },
      "source": [
        "# Calculate R_square for test data\r\n",
        "\r\n",
        "r2_score(y_test, pred_test_GB)"
      ],
      "execution_count": 83,
      "outputs": [
        {
          "output_type": "execute_result",
          "data": {
            "text/plain": [
              "0.8218605699056015"
            ]
          },
          "metadata": {
            "tags": []
          },
          "execution_count": 83
        }
      ]
    },
    {
      "cell_type": "markdown",
      "metadata": {
        "id": "5owkqCNw-yMV"
      },
      "source": [
        "OPTIMIZATION OF RESULTS ( with PARAMETERS TUNING)"
      ]
    },
    {
      "cell_type": "code",
      "metadata": {
        "colab": {
          "base_uri": "https://localhost:8080/"
        },
        "id": "GcGz0chi-ue2",
        "outputId": "b4238314-f92f-4d9e-d4b7-b913a15bbcd6"
      },
      "source": [
        "from sklearn.ensemble import RandomForestRegressor\r\n",
        "rf = RandomForestRegressor(random_state = 42)\r\n",
        "from pprint import pprint\r\n",
        "\r\n",
        "# Look at parameters used by our current forest\r\n",
        "print('Parameters currently in use:\\n')\r\n",
        "pprint(rf.get_params())"
      ],
      "execution_count": 84,
      "outputs": [
        {
          "output_type": "stream",
          "text": [
            "Parameters currently in use:\n",
            "\n",
            "{'bootstrap': True,\n",
            " 'ccp_alpha': 0.0,\n",
            " 'criterion': 'mse',\n",
            " 'max_depth': None,\n",
            " 'max_features': 'auto',\n",
            " 'max_leaf_nodes': None,\n",
            " 'max_samples': None,\n",
            " 'min_impurity_decrease': 0.0,\n",
            " 'min_impurity_split': None,\n",
            " 'min_samples_leaf': 1,\n",
            " 'min_samples_split': 2,\n",
            " 'min_weight_fraction_leaf': 0.0,\n",
            " 'n_estimators': 100,\n",
            " 'n_jobs': None,\n",
            " 'oob_score': False,\n",
            " 'random_state': 42,\n",
            " 'verbose': 0,\n",
            " 'warm_start': False}\n"
          ],
          "name": "stdout"
        }
      ]
    },
    {
      "cell_type": "markdown",
      "metadata": {
        "id": "FlyKvO2W-2PT"
      },
      "source": [
        "Random Hyperparameter Grid"
      ]
    },
    {
      "cell_type": "code",
      "metadata": {
        "id": "vIVSQ14N-1mK"
      },
      "source": [
        "from sklearn.model_selection import train_test_split,RandomizedSearchCV\r\n",
        "\r\n",
        "\r\n",
        "# Random Search CV on Random Forest Model\r\n",
        "\r\n",
        "RRF = RandomForestRegressor(random_state = 0)\r\n",
        "n_estimator = list(range(1,20,2))\r\n",
        "depth = list(range(1,100,2))"
      ],
      "execution_count": 85,
      "outputs": []
    },
    {
      "cell_type": "code",
      "metadata": {
        "id": "WVyCG_dB-5TA"
      },
      "source": [
        "# Create the random grid\r\n",
        "\r\n",
        "rand_grid = {'n_estimators': n_estimator,\r\n",
        "               'max_depth': depth}\r\n",
        "\r\n",
        "randomcv_rf = RandomizedSearchCV(RRF, param_distributions = rand_grid, n_iter = 5, cv = 5, random_state=0)\r\n",
        "\r\n",
        "randomcv_rf = randomcv_rf.fit(x_train,y_train)\r\n",
        "prediction_RRF = randomcv_rf.predict(x_test)\r\n",
        "\r\n",
        "view_best_params_RRF = randomcv_rf.best_params_\r\n",
        "\r\n",
        "best_model = randomcv_rf.best_estimator_\r\n",
        "\r\n",
        "predictions_RRF = best_model.predict(x_test)"
      ],
      "execution_count": 86,
      "outputs": []
    },
    {
      "cell_type": "code",
      "metadata": {
        "id": "QMNG7_uz-8uh"
      },
      "source": [
        "# R_square\r\n",
        "\r\n",
        "RRF_r2 = r2_score(y_test, predictions_RRF)"
      ],
      "execution_count": 87,
      "outputs": []
    },
    {
      "cell_type": "code",
      "metadata": {
        "id": "cHa-e3gf-_TF"
      },
      "source": [
        "# Calculating RMSE\r\n",
        "\r\n",
        "RRF_rmse = np.sqrt(mean_squared_error(y_test,predictions_RRF))"
      ],
      "execution_count": 88,
      "outputs": []
    },
    {
      "cell_type": "code",
      "metadata": {
        "colab": {
          "base_uri": "https://localhost:8080/"
        },
        "id": "1eqG9YDG_Bf5",
        "outputId": "fe368db4-3a15-4054-9005-4b54d53e1419"
      },
      "source": [
        "print('Random Search CV Random Forest Regressor Model Performance:')\r\n",
        "print('Best Parameters = ',view_best_params_RRF)\r\n",
        "print('R-squared = {:0.2}.'.format(RRF_r2))\r\n",
        "print('RMSE = ',RRF_rmse)"
      ],
      "execution_count": 89,
      "outputs": [
        {
          "output_type": "stream",
          "text": [
            "Random Search CV Random Forest Regressor Model Performance:\n",
            "Best Parameters =  {'n_estimators': 15, 'max_depth': 9}\n",
            "R-squared = 0.73.\n",
            "RMSE =  4.469299222774914\n"
          ],
          "name": "stdout"
        }
      ]
    },
    {
      "cell_type": "code",
      "metadata": {
        "colab": {
          "base_uri": "https://localhost:8080/"
        },
        "id": "QTVU1iHx_EKO",
        "outputId": "fb78540c-b507-4b78-c524-b07ac4448451"
      },
      "source": [
        "gb = GradientBoostingRegressor(random_state = 42)\r\n",
        "from pprint import pprint\r\n",
        "\r\n",
        "# Look at parameters used by our current forest\r\n",
        "\r\n",
        "print('Parameters currently in use:\\n')\r\n",
        "pprint(gb.get_params())"
      ],
      "execution_count": 90,
      "outputs": [
        {
          "output_type": "stream",
          "text": [
            "Parameters currently in use:\n",
            "\n",
            "{'alpha': 0.9,\n",
            " 'ccp_alpha': 0.0,\n",
            " 'criterion': 'friedman_mse',\n",
            " 'init': None,\n",
            " 'learning_rate': 0.1,\n",
            " 'loss': 'ls',\n",
            " 'max_depth': 3,\n",
            " 'max_features': None,\n",
            " 'max_leaf_nodes': None,\n",
            " 'min_impurity_decrease': 0.0,\n",
            " 'min_impurity_split': None,\n",
            " 'min_samples_leaf': 1,\n",
            " 'min_samples_split': 2,\n",
            " 'min_weight_fraction_leaf': 0.0,\n",
            " 'n_estimators': 100,\n",
            " 'n_iter_no_change': None,\n",
            " 'presort': 'deprecated',\n",
            " 'random_state': 42,\n",
            " 'subsample': 1.0,\n",
            " 'tol': 0.0001,\n",
            " 'validation_fraction': 0.1,\n",
            " 'verbose': 0,\n",
            " 'warm_start': False}\n"
          ],
          "name": "stdout"
        }
      ]
    },
    {
      "cell_type": "code",
      "metadata": {
        "id": "v61zduvk_HsK"
      },
      "source": [
        "# Random Search CV on gradient boosting model\r\n",
        "\r\n",
        "gb = GradientBoostingRegressor(random_state = 0)\r\n",
        "n_estimator = list(range(1,20,2))\r\n",
        "depth = list(range(1,100,2))"
      ],
      "execution_count": 91,
      "outputs": []
    },
    {
      "cell_type": "code",
      "metadata": {
        "id": "eOhAGGxn_M-S"
      },
      "source": [
        "# Create the random grid\r\n",
        "\r\n",
        "rand_grid = {'n_estimators': n_estimator,\r\n",
        "               'max_depth': depth}\r\n",
        "\r\n",
        "randomcv_gb = RandomizedSearchCV(gb, param_distributions = rand_grid, n_iter = 5, cv = 5, random_state=0)\r\n",
        "\r\n",
        "randomcv_gb = randomcv_gb.fit(x_train,y_train)\r\n",
        "predictions_gb = randomcv_gb.predict(x_test)\r\n",
        "\r\n",
        "\r\n",
        "view_best_params_gb = randomcv_gb.best_params_\r\n",
        "best_model = randomcv_gb.best_estimator_\r\n",
        "\r\n",
        "predictions_gb = best_model.predict(x_test)"
      ],
      "execution_count": 92,
      "outputs": []
    },
    {
      "cell_type": "code",
      "metadata": {
        "id": "adWt3Tuc_QND"
      },
      "source": [
        "# R_square\r\n",
        "\r\n",
        "gb_r2 = r2_score(y_test, predictions_gb)\r\n",
        "\r\n",
        "\r\n",
        "# Calculating RMSE\r\n",
        "\r\n",
        "gb_rmse = np.sqrt(mean_squared_error(y_test,predictions_gb))"
      ],
      "execution_count": 93,
      "outputs": []
    },
    {
      "cell_type": "code",
      "metadata": {
        "colab": {
          "base_uri": "https://localhost:8080/"
        },
        "id": "r_er7V5A_So7",
        "outputId": "d19ff46b-20c8-4051-d581-e7608d7b0e79"
      },
      "source": [
        "print('Random Search CV Gradient Boosting Model Performance:')\r\n",
        "print('Best Parameters = ',view_best_params_gb)\r\n",
        "print('R-squared = {:0.2}.'.format(gb_r2))\r\n",
        "print('RMSE = ', gb_rmse)"
      ],
      "execution_count": 94,
      "outputs": [
        {
          "output_type": "stream",
          "text": [
            "Random Search CV Gradient Boosting Model Performance:\n",
            "Best Parameters =  {'n_estimators': 15, 'max_depth': 9}\n",
            "R-squared = 0.78.\n",
            "RMSE =  4.069712487003473\n"
          ],
          "name": "stdout"
        }
      ]
    },
    {
      "cell_type": "code",
      "metadata": {
        "id": "spEMp3MY_WR-"
      },
      "source": [
        "from sklearn.model_selection import GridSearchCV  \r\n",
        "\r\n",
        "# Grid Search CV for random Forest model\r\n",
        "\r\n",
        "regr = RandomForestRegressor(random_state = 0)\r\n",
        "n_estimator = list(range(11,20,1))\r\n",
        "depth = list(range(5,15,2))"
      ],
      "execution_count": 95,
      "outputs": []
    },
    {
      "cell_type": "code",
      "metadata": {
        "id": "h_Q9l9Ju_Y_9"
      },
      "source": [
        "# Create the grid\r\n",
        "\r\n",
        "grid_search = {'n_estimators': n_estimator,\r\n",
        "               'max_depth': depth}"
      ],
      "execution_count": 96,
      "outputs": []
    },
    {
      "cell_type": "code",
      "metadata": {
        "id": "6DJstb_v_bwn"
      },
      "source": [
        "# Grid Search Cross-Validation with 5 fold CV\r\n",
        "\r\n",
        "gridcv_rf = GridSearchCV(regr, param_grid = grid_search, cv = 5)\r\n",
        "\r\n",
        "gridcv_rf = gridcv_rf.fit(x_train,y_train)\r\n",
        "\r\n",
        "view_best_params_GRF = gridcv_rf.best_params_"
      ],
      "execution_count": 97,
      "outputs": []
    },
    {
      "cell_type": "code",
      "metadata": {
        "id": "MLmwSL2y_h9q"
      },
      "source": [
        "#Apply model on test data\r\n",
        "\r\n",
        "predictions_GRF = gridcv_rf.predict(x_test)"
      ],
      "execution_count": 98,
      "outputs": []
    },
    {
      "cell_type": "code",
      "metadata": {
        "id": "WMVNon1U_lBy"
      },
      "source": [
        "# R_square\r\n",
        "\r\n",
        "GRF_r2 = r2_score(y_test, predictions_GRF)"
      ],
      "execution_count": 99,
      "outputs": []
    },
    {
      "cell_type": "code",
      "metadata": {
        "id": "P43FB1NH_n6e"
      },
      "source": [
        "# Calculating RMSE\r\n",
        "\r\n",
        "GRF_rmse = np.sqrt(mean_squared_error(y_test,predictions_GRF))"
      ],
      "execution_count": 100,
      "outputs": []
    },
    {
      "cell_type": "code",
      "metadata": {
        "colab": {
          "base_uri": "https://localhost:8080/"
        },
        "id": "moaSuJJH_q1a",
        "outputId": "d28c9554-f865-488a-a556-b776af95ff28"
      },
      "source": [
        "print('Grid Search CV Random Forest Regressor Model Performance:')\r\n",
        "\r\n",
        "print('Best Parameters = ',view_best_params_GRF)\r\n",
        "print('R-squared = {:0.2}.'.format(GRF_r2))\r\n",
        "print('RMSE = ',(GRF_rmse))"
      ],
      "execution_count": 101,
      "outputs": [
        {
          "output_type": "stream",
          "text": [
            "Grid Search CV Random Forest Regressor Model Performance:\n",
            "Best Parameters =  {'max_depth': 5, 'n_estimators': 12}\n",
            "R-squared = 0.8.\n",
            "RMSE =  3.8294149900194943\n"
          ],
          "name": "stdout"
        }
      ]
    },
    {
      "cell_type": "code",
      "metadata": {
        "id": "xPBHiJNQ_082"
      },
      "source": [
        "# Grid Search CV for gradinet boosting\r\n",
        "\r\n",
        "gb = GradientBoostingRegressor(random_state = 0)\r\n",
        "n_estimator = list(range(11,20,1))\r\n",
        "depth = list(range(5,15,2))"
      ],
      "execution_count": 102,
      "outputs": []
    },
    {
      "cell_type": "code",
      "metadata": {
        "id": "vYZ23hQa_151"
      },
      "source": [
        "# Create the grid\r\n",
        "\r\n",
        "grid_search = {'n_estimators': n_estimator,\r\n",
        "               'max_depth': depth}"
      ],
      "execution_count": 103,
      "outputs": []
    },
    {
      "cell_type": "code",
      "metadata": {
        "id": "HYHTrcx9_5TF"
      },
      "source": [
        "# Grid Search Cross-Validation with 5 fold CV\r\n",
        "\r\n",
        "gridcv_gb = GridSearchCV(gb, param_grid = grid_search, cv = 5)\r\n",
        "\r\n",
        "gridcv_gb = gridcv_gb.fit(x_train,y_train)\r\n",
        "view_best_params_Ggb = gridcv_gb.best_params_"
      ],
      "execution_count": 104,
      "outputs": []
    },
    {
      "cell_type": "code",
      "metadata": {
        "id": "ViZ66a-P_8Ao"
      },
      "source": [
        "# Apply model on test data\r\n",
        "\r\n",
        "predictions_Ggb = gridcv_gb.predict(x_test)"
      ],
      "execution_count": 105,
      "outputs": []
    },
    {
      "cell_type": "code",
      "metadata": {
        "id": "HgzBa44O_-23"
      },
      "source": [
        "# R_square\r\n",
        "\r\n",
        "Ggb_r2 = r2_score(y_test, predictions_Ggb)"
      ],
      "execution_count": 106,
      "outputs": []
    },
    {
      "cell_type": "code",
      "metadata": {
        "id": "E6FXKyhwAB7m"
      },
      "source": [
        "# Calculating RMSE\r\n",
        "\r\n",
        "Ggb_rmse = np.sqrt(mean_squared_error(y_test,predictions_Ggb))"
      ],
      "execution_count": 107,
      "outputs": []
    },
    {
      "cell_type": "code",
      "metadata": {
        "colab": {
          "base_uri": "https://localhost:8080/"
        },
        "id": "fXh7qEQAAHln",
        "outputId": "f39e87c4-e1ca-46b7-dfb5-0ad0dbaa41fc"
      },
      "source": [
        "print('Grid Search CV Gradient Boosting regression Model Performance:')\r\n",
        "\r\n",
        "print('Best Parameters = ',view_best_params_Ggb)\r\n",
        "print('R-squared = {:0.2}.'.format(Ggb_r2))\r\n",
        "print('RMSE = ',(Ggb_rmse))"
      ],
      "execution_count": 108,
      "outputs": [
        {
          "output_type": "stream",
          "text": [
            "Grid Search CV Gradient Boosting regression Model Performance:\n",
            "Best Parameters =  {'max_depth': 7, 'n_estimators': 19}\n",
            "R-squared = 0.81.\n",
            "RMSE =  3.7449268310103383\n"
          ],
          "name": "stdout"
        }
      ]
    },
    {
      "cell_type": "markdown",
      "metadata": {
        "id": "UBWGBYCpAQ55"
      },
      "source": [
        "FARE PREDICTION (from cleaned and processed test dataset)\r\n",
        "\r\n",
        "We already have cleaned and processed test and training dataset.\r\n",
        "Hence, we will be predicting using grid search CV for Random Forest Model.\r\n",
        "\r\n",
        "---\r\n",
        "\r\n"
      ]
    },
    {
      "cell_type": "code",
      "metadata": {
        "id": "GupS0aOHAKeR"
      },
      "source": [
        "# Grid Search CV for random Forest model\r\n",
        "\r\n",
        "regr = RandomForestRegressor(random_state = 0)\r\n",
        "n_estimator = list(range(11,20,1))\r\n",
        "depth = list(range(5,15,2))"
      ],
      "execution_count": 109,
      "outputs": []
    },
    {
      "cell_type": "code",
      "metadata": {
        "id": "s7oun4TaAeMA"
      },
      "source": [
        "# Create the grid\r\n",
        "\r\n",
        "grid_search = {'n_estimators': n_estimator,\r\n",
        "               'max_depth': depth}"
      ],
      "execution_count": 110,
      "outputs": []
    },
    {
      "cell_type": "code",
      "metadata": {
        "id": "erRIEyrJAgs6"
      },
      "source": [
        "# Grid Search Cross-Validation with 5 fold CV\r\n",
        "\r\n",
        "gridcv_rf = GridSearchCV(regr, param_grid = grid_search, cv = 5)\r\n",
        "\r\n",
        "gridcv_rf = gridcv_rf.fit(x_train,y_train)\r\n",
        "\r\n",
        "view_best_params_GRF = gridcv_rf.best_params_"
      ],
      "execution_count": 111,
      "outputs": []
    },
    {
      "cell_type": "code",
      "metadata": {
        "colab": {
          "base_uri": "https://localhost:8080/"
        },
        "id": "wfRkb5wNAjBz",
        "outputId": "7a0b6428-7766-4854-e730-f3201e371f0c"
      },
      "source": [
        "dataset_test.dtypes"
      ],
      "execution_count": 112,
      "outputs": [
        {
          "output_type": "execute_result",
          "data": {
            "text/plain": [
              "passenger_count      int64\n",
              "Year                 int64\n",
              "Month                int64\n",
              "Date                 int64\n",
              "Day                  int64\n",
              "Hour                 int64\n",
              "distance           float64\n",
              "dtype: object"
            ]
          },
          "metadata": {
            "tags": []
          },
          "execution_count": 112
        }
      ]
    },
    {
      "cell_type": "code",
      "metadata": {
        "colab": {
          "base_uri": "https://localhost:8080/"
        },
        "id": "9b751yF_Ak_k",
        "outputId": "a79c169c-8102-4bcb-dd33-92b6725a6266"
      },
      "source": [
        "#Apply model on test data\r\n",
        "\r\n",
        "predictions_GRF_test = gridcv_rf.predict(dataset_test)\r\n",
        "\r\n",
        "predictions_GRF_test"
      ],
      "execution_count": 113,
      "outputs": [
        {
          "output_type": "execute_result",
          "data": {
            "text/plain": [
              "array([ 8.96532204,  9.20613259,  5.4861336 , ..., 52.92558951,\n",
              "       25.75879193,  5.82456515])"
            ]
          },
          "metadata": {
            "tags": []
          },
          "execution_count": 113
        }
      ]
    },
    {
      "cell_type": "code",
      "metadata": {
        "id": "XwiQmm5jAn-Z"
      },
      "source": [
        "dataset_test['Predicted_fare'] = predictions_GRF_test"
      ],
      "execution_count": 114,
      "outputs": []
    },
    {
      "cell_type": "code",
      "metadata": {
        "colab": {
          "base_uri": "https://localhost:8080/",
          "height": 202
        },
        "id": "yDWyies9AqDr",
        "outputId": "bf842218-7d35-4923-9465-73388975e8bb"
      },
      "source": [
        "dataset_test.head()"
      ],
      "execution_count": 115,
      "outputs": [
        {
          "output_type": "execute_result",
          "data": {
            "text/html": [
              "<div>\n",
              "<style scoped>\n",
              "    .dataframe tbody tr th:only-of-type {\n",
              "        vertical-align: middle;\n",
              "    }\n",
              "\n",
              "    .dataframe tbody tr th {\n",
              "        vertical-align: top;\n",
              "    }\n",
              "\n",
              "    .dataframe thead th {\n",
              "        text-align: right;\n",
              "    }\n",
              "</style>\n",
              "<table border=\"1\" class=\"dataframe\">\n",
              "  <thead>\n",
              "    <tr style=\"text-align: right;\">\n",
              "      <th></th>\n",
              "      <th>passenger_count</th>\n",
              "      <th>Year</th>\n",
              "      <th>Month</th>\n",
              "      <th>Date</th>\n",
              "      <th>Day</th>\n",
              "      <th>Hour</th>\n",
              "      <th>distance</th>\n",
              "      <th>Predicted_fare</th>\n",
              "    </tr>\n",
              "  </thead>\n",
              "  <tbody>\n",
              "    <tr>\n",
              "      <th>0</th>\n",
              "      <td>1</td>\n",
              "      <td>2015</td>\n",
              "      <td>1</td>\n",
              "      <td>27</td>\n",
              "      <td>1</td>\n",
              "      <td>13</td>\n",
              "      <td>2.323259</td>\n",
              "      <td>8.965322</td>\n",
              "    </tr>\n",
              "    <tr>\n",
              "      <th>1</th>\n",
              "      <td>1</td>\n",
              "      <td>2015</td>\n",
              "      <td>1</td>\n",
              "      <td>27</td>\n",
              "      <td>1</td>\n",
              "      <td>13</td>\n",
              "      <td>2.425353</td>\n",
              "      <td>9.206133</td>\n",
              "    </tr>\n",
              "    <tr>\n",
              "      <th>2</th>\n",
              "      <td>1</td>\n",
              "      <td>2011</td>\n",
              "      <td>10</td>\n",
              "      <td>8</td>\n",
              "      <td>5</td>\n",
              "      <td>11</td>\n",
              "      <td>0.618628</td>\n",
              "      <td>5.486134</td>\n",
              "    </tr>\n",
              "    <tr>\n",
              "      <th>3</th>\n",
              "      <td>1</td>\n",
              "      <td>2012</td>\n",
              "      <td>12</td>\n",
              "      <td>1</td>\n",
              "      <td>5</td>\n",
              "      <td>21</td>\n",
              "      <td>1.961033</td>\n",
              "      <td>9.180767</td>\n",
              "    </tr>\n",
              "    <tr>\n",
              "      <th>4</th>\n",
              "      <td>1</td>\n",
              "      <td>2012</td>\n",
              "      <td>12</td>\n",
              "      <td>1</td>\n",
              "      <td>5</td>\n",
              "      <td>21</td>\n",
              "      <td>5.387301</td>\n",
              "      <td>14.064193</td>\n",
              "    </tr>\n",
              "  </tbody>\n",
              "</table>\n",
              "</div>"
            ],
            "text/plain": [
              "   passenger_count  Year  Month  Date  Day  Hour  distance  Predicted_fare\n",
              "0                1  2015      1    27    1    13  2.323259        8.965322\n",
              "1                1  2015      1    27    1    13  2.425353        9.206133\n",
              "2                1  2011     10     8    5    11  0.618628        5.486134\n",
              "3                1  2012     12     1    5    21  1.961033        9.180767\n",
              "4                1  2012     12     1    5    21  5.387301       14.064193"
            ]
          },
          "metadata": {
            "tags": []
          },
          "execution_count": 115
        }
      ]
    }
  ]
}